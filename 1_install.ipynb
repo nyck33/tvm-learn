{
  "cells": [
    {
      "cell_type": "markdown",
      "metadata": {},
      "source": [
        "\n",
        "# Installing TVM\n",
        "**Authors**:\n",
        "[Jocelyn Shiue](https://github.com/),\n",
        "[Chris Hoge](https://github.com/hogepodge)\n",
        "\n",
        "Depending on your needs and your working environment, there are a few different\n",
        "methods for installing TVM. These include:\n",
        "\n",
        "* Installing from source\n",
        "* Installing from third-party binary package.\n"
      ]
    },
    {
      "cell_type": "markdown",
      "metadata": {},
      "source": [
        "## Installing From Source\n",
        "Installing from source is the recommended method for installing TVM. It will\n",
        "allow you to enable specific features such as GPU support, microcontroller\n",
        "support (microTVM), and a debugging runtime, and other features. You will also\n",
        "want to install from source if you want to actively contribute to the TVM\n",
        "project. The full instructions are on the `Install TVM From Source\n",
        "<install-from-source>` page.\n",
        "\n"
      ]
    },
    {
      "cell_type": "markdown",
      "metadata": {},
      "source": [
        "## Installing From Binary Packages\n",
        "You may install convenient third party binary package distributions to\n",
        "quickly try things out. TLCPack is a third party volunteer community that\n",
        "builds binary packages from TVM source. It offers a support matrix with\n",
        "instructions to install on different platforms, with different features.\n",
        "Check out  [TLCPack](https://tlcpack.ai) to learn more. Note that the\n",
        "third party binary packages could contain additional licensing terms for\n",
        "the hardware drivers that are bundled with it.\n",
        "\n"
      ]
    }
  ],
  "metadata": {
    "kernelspec": {
      "display_name": "Python 3",
      "language": "python",
      "name": "python3"
    },
    "language_info": {
      "codemirror_mode": {
        "name": "ipython",
        "version": 3
      },
      "file_extension": ".py",
      "mimetype": "text/x-python",
      "name": "python",
      "nbconvert_exporter": "python",
      "pygments_lexer": "ipython3",
      "version": "3.7.16"
    }
  },
  "nbformat": 4,
  "nbformat_minor": 0
}
