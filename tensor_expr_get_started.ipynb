{
  "cells": [
    {
      "cell_type": "code",
      "execution_count": null,
      "metadata": {
        "collapsed": false
      },
      "outputs": [],
      "source": [
        "#%%shell\n",
        "# Installs the latest dev build of TVM from PyPI. If you wish to build\n",
        "# from source, see https://tvm.apache.org/docs/install/from_source.html\n",
        "#pip install apache-tvm --pre"
      ]
    },
    {
      "cell_type": "markdown",
      "metadata": {},
      "source": [
        "\n",
        "\n",
        "# Working with Operators Using Tensor Expression\n",
        "**Author**: [Tianqi Chen](https://tqchen.github.io)\n",
        "\n",
        "In this tutorial we will turn our attention to how TVM works with Tensor\n",
        "Expression (TE) to define tensor computations and apply loop optimizations. TE\n",
        "describes tensor computations in a pure functional language (that is each\n",
        "expression has no side effects). When viewed in context of the TVM as a whole,\n",
        "Relay describes a computation as a set of operators, and each of these\n",
        "operators can be represented as a TE expression where each TE expression takes\n",
        "input tensors and produces an output tensor.\n",
        "\n",
        "This is an introductory tutorial to the Tensor Expression language in TVM. TVM\n",
        "uses a domain specific tensor expression for efficient kernel construction. We\n",
        "will demonstrate the basic workflow with two examples of using the tensor expression\n",
        "language. The first example introduces TE and scheduling with vector\n",
        "addition. The second expands on these concepts with a step-by-step optimization\n",
        "of a matrix multiplication with TE. This matrix multiplication example will\n",
        "serve as the comparative basis for future tutorials covering more advanced\n",
        "features of TVM.\n"
      ]
    },
    {
      "cell_type": "markdown",
      "metadata": {},
      "source": [
        "## Example 1: Writing and Scheduling Vector Addition in TE for CPU\n",
        "\n",
        "Let's look at an example in Python in which we will implement a TE for\n",
        "vector addition, followed by a schedule targeted towards a CPU.\n",
        "We begin by initializing a TVM environment.\n",
        "\n"
      ]
    },
    {
      "cell_type": "code",
      "execution_count": 23,
      "metadata": {
        "collapsed": false
      },
      "outputs": [],
      "source": [
        "import tvm\n",
        "import tvm.testing\n",
        "from tvm import te\n",
        "import numpy as np"
      ]
    },
    {
      "cell_type": "markdown",
      "metadata": {},
      "source": [
        "You will get better performance if you can identify the CPU you are targeting\n",
        "and specify it. If you're using LLVM, you can get this information from the\n",
        "command ``llc --version`` to get the CPU type, and you can check\n",
        "``/proc/cpuinfo`` for additional extensions that your processor might\n",
        "support. For example, you can use ``llvm -mcpu=skylake-avx512`` for CPUs with\n",
        "AVX-512 instructions.\n",
        "\n"
      ]
    },
    {
      "cell_type": "code",
      "execution_count": 43,
      "metadata": {
        "collapsed": false
      },
      "outputs": [],
      "source": [
        "#tgt = tvm.target.Target(target=\"llvm\", host=\"llvm\")\n",
        "\n",
        "#chatgpt\n",
        "#tgt_host = tvm.target.Target(target=\"llvm\", host=\"llvm -mcpu=znver3\")\n",
        "\n",
        "#tgt = tvm.target.Target(\"cuda\", host=\"llvm -mcpu=znver3\")\n",
        "tgt = tvm.target.Target(\"llvm -mcpu=znver3\")\n",
        "\n",
        "tgt_gpu = tvm.target.cuda(arch=\"sm_75\")"
      ]
    },
    {
      "cell_type": "code",
      "execution_count": 47,
      "metadata": {},
      "outputs": [
        {
          "ename": "ValueError",
          "evalue": "Cannot detect device `cuda(0)`. Please make sure the device and its driver is installed properly, and TVM is compiled with the driver",
          "output_type": "error",
          "traceback": [
            "\u001b[0;31m---------------------------------------------------------------------------\u001b[0m",
            "\u001b[0;31mValueError\u001b[0m                                Traceback (most recent call last)",
            "Cell \u001b[0;32mIn[47], line 2\u001b[0m\n\u001b[1;32m      1\u001b[0m tgt\u001b[38;5;241m.\u001b[39mlist_kinds()\n\u001b[0;32m----> 2\u001b[0m \u001b[43mtgt\u001b[49m\u001b[38;5;241;43m.\u001b[39;49m\u001b[43mfrom_device\u001b[49m\u001b[43m(\u001b[49m\u001b[38;5;124;43m'\u001b[39;49m\u001b[38;5;124;43mcuda\u001b[39;49m\u001b[38;5;124;43m'\u001b[39;49m\u001b[43m)\u001b[49m\n",
            "File \u001b[0;32m~/miniconda3/envs/tvm-env/lib/python3.8/site-packages/tvm/target/target.py:173\u001b[0m, in \u001b[0;36mTarget.from_device\u001b[0;34m(device)\u001b[0m\n\u001b[1;32m    155\u001b[0m \u001b[38;5;250m\u001b[39m\u001b[38;5;124;03m\"\"\"Detects Target associated with the given device. If the device does not exist,\u001b[39;00m\n\u001b[1;32m    156\u001b[0m \u001b[38;5;124;03mthere will be an Error.\u001b[39;00m\n\u001b[1;32m    157\u001b[0m \n\u001b[0;32m   (...)\u001b[0m\n\u001b[1;32m    167\u001b[0m \u001b[38;5;124;03m    The detected target.\u001b[39;00m\n\u001b[1;32m    168\u001b[0m \u001b[38;5;124;03m\"\"\"\u001b[39;00m\n\u001b[1;32m    169\u001b[0m \u001b[38;5;28;01mfrom\u001b[39;00m \u001b[38;5;21;01m.\u001b[39;00m\u001b[38;5;21;01mdetect_target\u001b[39;00m \u001b[38;5;28;01mimport\u001b[39;00m (  \u001b[38;5;66;03m# pylint: disable=import-outside-toplevel\u001b[39;00m\n\u001b[1;32m    170\u001b[0m     detect_target_from_device,\n\u001b[1;32m    171\u001b[0m )\n\u001b[0;32m--> 173\u001b[0m \u001b[38;5;28;01mreturn\u001b[39;00m \u001b[43mdetect_target_from_device\u001b[49m\u001b[43m(\u001b[49m\u001b[43mdevice\u001b[49m\u001b[43m)\u001b[49m\n",
            "File \u001b[0;32m~/miniconda3/envs/tvm-env/lib/python3.8/site-packages/tvm/target/detect_target.py:101\u001b[0m, in \u001b[0;36mdetect_target_from_device\u001b[0;34m(dev)\u001b[0m\n\u001b[1;32m     96\u001b[0m     \u001b[38;5;28;01mraise\u001b[39;00m \u001b[38;5;167;01mValueError\u001b[39;00m(\n\u001b[1;32m     97\u001b[0m         \u001b[38;5;124mf\u001b[39m\u001b[38;5;124m\"\u001b[39m\u001b[38;5;124mAuto detection for device `\u001b[39m\u001b[38;5;132;01m{\u001b[39;00mdevice_type\u001b[38;5;132;01m}\u001b[39;00m\u001b[38;5;124m` is not supported. \u001b[39m\u001b[38;5;124m\"\u001b[39m\n\u001b[1;32m     98\u001b[0m         \u001b[38;5;124mf\u001b[39m\u001b[38;5;124m\"\u001b[39m\u001b[38;5;124mCurrently only supports: \u001b[39m\u001b[38;5;132;01m{\u001b[39;00mSUPPORT_DEVICE\u001b[38;5;241m.\u001b[39mkeys()\u001b[38;5;132;01m}\u001b[39;00m\u001b[38;5;124m\"\u001b[39m\n\u001b[1;32m     99\u001b[0m     )\n\u001b[1;32m    100\u001b[0m \u001b[38;5;28;01mif\u001b[39;00m \u001b[38;5;129;01mnot\u001b[39;00m dev\u001b[38;5;241m.\u001b[39mexist:\n\u001b[0;32m--> 101\u001b[0m     \u001b[38;5;28;01mraise\u001b[39;00m \u001b[38;5;167;01mValueError\u001b[39;00m(\n\u001b[1;32m    102\u001b[0m         \u001b[38;5;124mf\u001b[39m\u001b[38;5;124m\"\u001b[39m\u001b[38;5;124mCannot detect device `\u001b[39m\u001b[38;5;132;01m{\u001b[39;00mdev\u001b[38;5;132;01m}\u001b[39;00m\u001b[38;5;124m`. Please make sure the device and its driver \u001b[39m\u001b[38;5;124m\"\u001b[39m\n\u001b[1;32m    103\u001b[0m         \u001b[38;5;124m\"\u001b[39m\u001b[38;5;124mis installed properly, and TVM is compiled with the driver\u001b[39m\u001b[38;5;124m\"\u001b[39m\n\u001b[1;32m    104\u001b[0m     )\n\u001b[1;32m    105\u001b[0m target \u001b[38;5;241m=\u001b[39m SUPPORT_DEVICE[device_type](dev)\n\u001b[1;32m    106\u001b[0m \u001b[38;5;28;01mreturn\u001b[39;00m target\n",
            "\u001b[0;31mValueError\u001b[0m: Cannot detect device `cuda(0)`. Please make sure the device and its driver is installed properly, and TVM is compiled with the driver"
          ]
        }
      ],
      "source": [
        "tgt.list_kinds()\n",
        "tgt.from_device('cuda')"
      ]
    },
    {
      "cell_type": "markdown",
      "metadata": {},
      "source": []
    },
    {
      "cell_type": "markdown",
      "metadata": {},
      "source": [
        "### Describing the Vector Computation\n",
        "We describe a vector addition computation. TVM adopts tensor semantics, with\n",
        "each intermediate result represented as a multi-dimensional array. The user\n",
        "needs to describe the computation rule that generates the tensors. We first\n",
        "define a symbolic variable ``n`` to represent the shape. We then define two\n",
        "placeholder Tensors, ``A`` and ``B``, with given shape ``(n,)``. We then\n",
        "describe the result tensor ``C``, with a ``compute`` operation. The\n",
        "``compute`` defines a computation, with the output conforming to the\n",
        "specified tensor shape and the computation to be performed at each position\n",
        "in the tensor defined by the lambda function. Note that while ``n`` is a\n",
        "variable, it defines a consistent shape between the ``A``, ``B`` and ``C``\n",
        "tensors. Remember, no actual computation happens during this phase, as we\n",
        "are only declaring how the computation should be done.\n",
        "\n"
      ]
    },
    {
      "cell_type": "code",
      "execution_count": 35,
      "metadata": {
        "collapsed": false
      },
      "outputs": [],
      "source": [
        "n = te.var(\"n\")\n",
        "A = te.placeholder((n,), name=\"A\")\n",
        "B = te.placeholder((n,), name=\"B\")\n",
        "C = te.compute(A.shape, lambda i: A[i] + B[i], name=\"C\")"
      ]
    },
    {
      "cell_type": "markdown",
      "metadata": {},
      "source": [
        "<div class=\"alert alert-info\"><h4>Lambda Functions</h4><p>The second argument to the ``te.compute`` method is the function that\n",
        "performs the computation. In this example, we're using an anonymous function,\n",
        "also known as a ``lambda`` function, to define the computation, in this case\n",
        "addition on the ``i``\\th element of ``A`` and ``B``.</p></div>"
      ]
    },
    {
      "cell_type": "markdown",
      "metadata": {},
      "source": [
        "### Create a Default Schedule for the Computation\n",
        "\n",
        "While the above lines describe the computation rule, we can compute ``C`` in\n",
        "many different ways to fit different devices. For a tensor with multiple\n",
        "axes, you can choose which axis to iterate over first, or computations can be\n",
        "split across different threads. TVM requires that the user to provide a\n",
        "schedule, which is a description of how the computation should be performed.\n",
        "Scheduling operations within TE can change loop orders, split computations\n",
        "across different threads, and group blocks of data together, amongst other\n",
        "operations. An important concept behind schedules is that they only describe\n",
        "how the computation is performed, so different schedules for the same TE will\n",
        "produce the same result.\n",
        "\n",
        "TVM allows you to create a naive schedule that will compute ``C`` in by\n",
        "iterating in row major order.\n",
        "\n",
        "```c\n",
        "for (int i = 0; i < n; ++i) {\n",
        "  C[i] = A[i] + B[i];\n",
        "}\n",
        "```\n"
      ]
    },
    {
      "cell_type": "code",
      "execution_count": 36,
      "metadata": {
        "collapsed": false
      },
      "outputs": [],
      "source": [
        "# created a naive schdule?\n",
        "s = te.create_schedule(C.op)"
      ]
    },
    {
      "cell_type": "markdown",
      "metadata": {},
      "source": [
        "### Compile and Evaluate the Default Schedule\n",
        "With the TE expression and a schedule, we can produce runnable code for our\n",
        "target language and architecture, in this case LLVM and a CPU. We provide\n",
        "TVM with the schedule, a list of the TE expressions that are in the schedule,\n",
        "the target and host, and the name of the function we are producing. The result\n",
        "of the output is a type-erased function that can be called directly from Python.\n",
        "\n",
        "In the following line, we use ``tvm.build`` to create a function. The build\n",
        "function takes the schedule, the desired signature of the function (including\n",
        "the inputs and outputs) as well as target language we want to compile to.\n",
        "\n"
      ]
    },
    {
      "cell_type": "code",
      "execution_count": 37,
      "metadata": {
        "collapsed": false
      },
      "outputs": [
        {
          "ename": "TVMError",
          "evalue": "Traceback (most recent call last):\n  6: tvm::runtime::PackedFuncObj::Extractor<tvm::runtime::PackedFuncSubObj<tvm::runtime::TypedPackedFunc<tvm::runtime::Module (tvm::runtime::Map<tvm::Target, tvm::IRModule, void, void> const&, tvm::Target)>::AssignTypedLambda<tvm::{lambda(tvm::runtime::Map<tvm::Target, tvm::IRModule, void, void> const&, tvm::Target)#6}>(tvm::{lambda(tvm::runtime::Map<tvm::Target, tvm::IRModule, void, void> const&, tvm::Target)#6}, std::string)::{lambda(tvm::runtime::TVMArgs const&, tvm::runtime::TVMRetValue*)#1}> >::Call(tvm::runtime::PackedFuncObj const*, tvm::runtime::TVMArgs, tvm::runtime::TVMRetValue*)\n  5: tvm::TIRToRuntime(tvm::runtime::Map<tvm::Target, tvm::IRModule, void, void> const&, tvm::Target const&)\n  4: tvm::codegen::Build(tvm::IRModule, tvm::Target)\n  3: tvm::runtime::PackedFuncObj::Extractor<tvm::runtime::PackedFuncSubObj<tvm::runtime::TypedPackedFunc<tvm::runtime::Module (tvm::IRModule, tvm::Target)>::AssignTypedLambda<tvm::codegen::{lambda(tvm::IRModule, tvm::Target)#1}>(tvm::codegen::{lambda(tvm::IRModule, tvm::Target)#1}, std::string)::{lambda(tvm::runtime::TVMArgs const&, tvm::runtime::TVMRetValue*)#1}> >::Call(tvm::runtime::PackedFuncObj const*, tvm::runtime::TVMArgs, tvm::runtime::TVMRetValue*)\n  2: tvm::codegen::LLVMModuleNode::Init(tvm::IRModule const&, tvm::Target const&)\n  1: tvm::codegen::LLVMTarget::LLVMTarget(tvm::codegen::LLVMInstance&, tvm::Target const&)\n  0: tvm::codegen::LLVMTargetInfo::LLVMTargetInfo(tvm::codegen::LLVMInstance&, tvm::Target const&)\n  File \"/workspace/tvm/src/target/llvm/llvm_instance.cc\", line 218\nTVMError: LLVM cpu architecture `-mcpu=znver3` is not valid in `-mtriple=x86_64-unknown-linux-gnu`",
          "output_type": "error",
          "traceback": [
            "\u001b[0;31m---------------------------------------------------------------------------\u001b[0m",
            "\u001b[0;31mTVMError\u001b[0m                                  Traceback (most recent call last)",
            "Cell \u001b[0;32mIn[37], line 1\u001b[0m\n\u001b[0;32m----> 1\u001b[0m fadd \u001b[38;5;241m=\u001b[39m \u001b[43mtvm\u001b[49m\u001b[38;5;241;43m.\u001b[39;49m\u001b[43mbuild\u001b[49m\u001b[43m(\u001b[49m\u001b[43ms\u001b[49m\u001b[43m,\u001b[49m\u001b[43m \u001b[49m\u001b[43m[\u001b[49m\u001b[43mA\u001b[49m\u001b[43m,\u001b[49m\u001b[43m \u001b[49m\u001b[43mB\u001b[49m\u001b[43m,\u001b[49m\u001b[43m \u001b[49m\u001b[43mC\u001b[49m\u001b[43m]\u001b[49m\u001b[43m,\u001b[49m\u001b[43m \u001b[49m\u001b[43mtgt\u001b[49m\u001b[43m,\u001b[49m\u001b[43m \u001b[49m\u001b[43mname\u001b[49m\u001b[38;5;241;43m=\u001b[39;49m\u001b[38;5;124;43m\"\u001b[39;49m\u001b[38;5;124;43mmyadd\u001b[39;49m\u001b[38;5;124;43m\"\u001b[39;49m\u001b[43m)\u001b[49m\n",
            "File \u001b[0;32m~/miniconda3/envs/tvm-env/lib/python3.8/site-packages/tvm/driver/build_module.py:281\u001b[0m, in \u001b[0;36mbuild\u001b[0;34m(inputs, args, target, target_host, runtime, name, binds)\u001b[0m\n\u001b[1;32m    277\u001b[0m     target_host \u001b[38;5;241m=\u001b[39m \u001b[38;5;124m\"\u001b[39m\u001b[38;5;124mllvm\u001b[39m\u001b[38;5;124m\"\u001b[39m \u001b[38;5;28;01mif\u001b[39;00m tvm\u001b[38;5;241m.\u001b[39mruntime\u001b[38;5;241m.\u001b[39menabled(\u001b[38;5;124m\"\u001b[39m\u001b[38;5;124mllvm\u001b[39m\u001b[38;5;124m\"\u001b[39m) \u001b[38;5;28;01melse\u001b[39;00m \u001b[38;5;124m\"\u001b[39m\u001b[38;5;124mstackvm\u001b[39m\u001b[38;5;124m\"\u001b[39m\n\u001b[1;32m    279\u001b[0m annotated_mods, target_host \u001b[38;5;241m=\u001b[39m Target\u001b[38;5;241m.\u001b[39mcanon_target_map_and_host(annotated_mods, target_host)\n\u001b[0;32m--> 281\u001b[0m rt_mod_host \u001b[38;5;241m=\u001b[39m \u001b[43m_driver_ffi\u001b[49m\u001b[38;5;241;43m.\u001b[39;49m\u001b[43mtir_to_runtime\u001b[49m\u001b[43m(\u001b[49m\u001b[43mannotated_mods\u001b[49m\u001b[43m,\u001b[49m\u001b[43m \u001b[49m\u001b[43mtarget_host\u001b[49m\u001b[43m)\u001b[49m\n\u001b[1;32m    283\u001b[0m annotated_mods, target_host \u001b[38;5;241m=\u001b[39m Target\u001b[38;5;241m.\u001b[39mcanon_target_map_and_host(annotated_mods, target_host)\n\u001b[1;32m    285\u001b[0m \u001b[38;5;28;01mif\u001b[39;00m \u001b[38;5;129;01mnot\u001b[39;00m \u001b[38;5;28misinstance\u001b[39m(target_host, Target):\n",
            "File \u001b[0;32mtvm/_ffi/_cython/./packed_func.pxi:332\u001b[0m, in \u001b[0;36mtvm._ffi._cy3.core.PackedFuncBase.__call__\u001b[0;34m()\u001b[0m\n",
            "File \u001b[0;32mtvm/_ffi/_cython/./packed_func.pxi:263\u001b[0m, in \u001b[0;36mtvm._ffi._cy3.core.FuncCall\u001b[0;34m()\u001b[0m\n",
            "File \u001b[0;32mtvm/_ffi/_cython/./packed_func.pxi:252\u001b[0m, in \u001b[0;36mtvm._ffi._cy3.core.FuncCall3\u001b[0;34m()\u001b[0m\n",
            "File \u001b[0;32mtvm/_ffi/_cython/./base.pxi:182\u001b[0m, in \u001b[0;36mtvm._ffi._cy3.core.CHECK_CALL\u001b[0;34m()\u001b[0m\n",
            "File \u001b[0;32m~/miniconda3/envs/tvm-env/lib/python3.8/site-packages/tvm/_ffi/base.py:481\u001b[0m, in \u001b[0;36mraise_last_ffi_error\u001b[0;34m()\u001b[0m\n\u001b[1;32m    475\u001b[0m \u001b[38;5;66;03m# The exception PyObject may contain a large amount of state,\u001b[39;00m\n\u001b[1;32m    476\u001b[0m \u001b[38;5;66;03m# including all stack frames that may be inspected in a later\u001b[39;00m\n\u001b[1;32m    477\u001b[0m \u001b[38;5;66;03m# PDB post-mortem.  Therefore, we must make sure to remove the\u001b[39;00m\n\u001b[1;32m    478\u001b[0m \u001b[38;5;66;03m# underlying PyObject* from the C++ side after we retrieve it.\u001b[39;00m\n\u001b[1;32m    479\u001b[0m _LIB\u001b[38;5;241m.\u001b[39mTVMDropLastPythonError()\n\u001b[0;32m--> 481\u001b[0m \u001b[38;5;28;01mraise\u001b[39;00m py_err\n",
            "\u001b[0;31mTVMError\u001b[0m: Traceback (most recent call last):\n  6: tvm::runtime::PackedFuncObj::Extractor<tvm::runtime::PackedFuncSubObj<tvm::runtime::TypedPackedFunc<tvm::runtime::Module (tvm::runtime::Map<tvm::Target, tvm::IRModule, void, void> const&, tvm::Target)>::AssignTypedLambda<tvm::{lambda(tvm::runtime::Map<tvm::Target, tvm::IRModule, void, void> const&, tvm::Target)#6}>(tvm::{lambda(tvm::runtime::Map<tvm::Target, tvm::IRModule, void, void> const&, tvm::Target)#6}, std::string)::{lambda(tvm::runtime::TVMArgs const&, tvm::runtime::TVMRetValue*)#1}> >::Call(tvm::runtime::PackedFuncObj const*, tvm::runtime::TVMArgs, tvm::runtime::TVMRetValue*)\n  5: tvm::TIRToRuntime(tvm::runtime::Map<tvm::Target, tvm::IRModule, void, void> const&, tvm::Target const&)\n  4: tvm::codegen::Build(tvm::IRModule, tvm::Target)\n  3: tvm::runtime::PackedFuncObj::Extractor<tvm::runtime::PackedFuncSubObj<tvm::runtime::TypedPackedFunc<tvm::runtime::Module (tvm::IRModule, tvm::Target)>::AssignTypedLambda<tvm::codegen::{lambda(tvm::IRModule, tvm::Target)#1}>(tvm::codegen::{lambda(tvm::IRModule, tvm::Target)#1}, std::string)::{lambda(tvm::runtime::TVMArgs const&, tvm::runtime::TVMRetValue*)#1}> >::Call(tvm::runtime::PackedFuncObj const*, tvm::runtime::TVMArgs, tvm::runtime::TVMRetValue*)\n  2: tvm::codegen::LLVMModuleNode::Init(tvm::IRModule const&, tvm::Target const&)\n  1: tvm::codegen::LLVMTarget::LLVMTarget(tvm::codegen::LLVMInstance&, tvm::Target const&)\n  0: tvm::codegen::LLVMTargetInfo::LLVMTargetInfo(tvm::codegen::LLVMInstance&, tvm::Target const&)\n  File \"/workspace/tvm/src/target/llvm/llvm_instance.cc\", line 218\nTVMError: LLVM cpu architecture `-mcpu=znver3` is not valid in `-mtriple=x86_64-unknown-linux-gnu`"
          ]
        }
      ],
      "source": [
        "fadd = tvm.build(s, [A, B, C], tgt, name=\"myadd\")"
      ]
    },
    {
      "cell_type": "markdown",
      "metadata": {},
      "source": [
        "Let's run the function, and compare the output to the same computation in\n",
        "numpy. The compiled TVM function exposes a concise C API that can be invoked\n",
        "from any language. We begin by creating a device, which is a device (CPU in this\n",
        "example) that TVM can compile the schedule to. In this case the device is an\n",
        "LLVM CPU target. We can then initialize the tensors in our device and\n",
        "perform the custom addition operation. To verify that the computation is\n",
        "correct, we can compare the result of the output of the c tensor to the same\n",
        "computation performed by numpy.\n",
        "\n"
      ]
    },
    {
      "cell_type": "code",
      "execution_count": null,
      "metadata": {
        "collapsed": false
      },
      "outputs": [],
      "source": [
        "dev = tvm.device(tgt.kind.name, 0)\n",
        "\n",
        "n = 1024\n",
        "a = tvm.nd.array(np.random.uniform(size=n).astype(A.dtype), dev)\n",
        "b = tvm.nd.array(np.random.uniform(size=n).astype(B.dtype), dev)\n",
        "c = tvm.nd.array(np.zeros(n, dtype=C.dtype), dev)\n",
        "fadd(a, b, c)\n",
        "tvm.testing.assert_allclose(c.numpy(), a.numpy() + b.numpy())"
      ]
    },
    {
      "cell_type": "markdown",
      "metadata": {},
      "source": [
        "To get a comparison of how fast this version is compared to numpy, create a\n",
        "helper function to run a profile of the TVM generated code.\n",
        "\n"
      ]
    },
    {
      "cell_type": "code",
      "execution_count": null,
      "metadata": {
        "collapsed": false
      },
      "outputs": [],
      "source": [
        "import timeit\n",
        "\n",
        "np_repeat = 100\n",
        "np_running_time = timeit.timeit(\n",
        "    setup=\"import numpy\\n\"\n",
        "    \"n = 32768\\n\"\n",
        "    'dtype = \"float32\"\\n'\n",
        "    \"a = numpy.random.rand(n, 1).astype(dtype)\\n\"\n",
        "    \"b = numpy.random.rand(n, 1).astype(dtype)\\n\",\n",
        "    stmt=\"answer = a + b\",\n",
        "    number=np_repeat,\n",
        ")\n",
        "print(\"Numpy running time: %f\" % (np_running_time / np_repeat))\n",
        "\n",
        "\n",
        "def evaluate_addition(func, target, optimization, log):\n",
        "    dev = tvm.device(target.kind.name, 0)\n",
        "    n = 32768\n",
        "    a = tvm.nd.array(np.random.uniform(size=n).astype(A.dtype), dev)\n",
        "    b = tvm.nd.array(np.random.uniform(size=n).astype(B.dtype), dev)\n",
        "    c = tvm.nd.array(np.zeros(n, dtype=C.dtype), dev)\n",
        "\n",
        "    evaluator = func.time_evaluator(func.entry_name, dev, number=10)\n",
        "    mean_time = evaluator(a, b, c).mean\n",
        "    print(\"%s: %f\" % (optimization, mean_time))\n",
        "\n",
        "    log.append((optimization, mean_time))\n",
        "\n",
        "\n",
        "log = [(\"numpy\", np_running_time / np_repeat)]\n",
        "evaluate_addition(fadd, tgt, \"naive\", log=log)"
      ]
    },
    {
      "cell_type": "markdown",
      "metadata": {},
      "source": [
        "### Updating the Schedule to Use Parallelism\n",
        "\n",
        "Now that we've illustrated the fundamentals of TE, let's go deeper into what\n",
        "schedules do, and how they can be used to optimize tensor expressions for\n",
        "different architectures. A schedule is a series of steps that are applied to\n",
        "an expression to transform it in a number of different ways. When a schedule\n",
        "is applied to an expression in TE, the inputs and outputs remain the same,\n",
        "but when compiled the implementation of the expression can change. This\n",
        "tensor addition, in the default schedule, is run serially but is easy to\n",
        "parallelize across all of the processor threads. We can apply the parallel\n",
        "schedule operation to our computation.\n",
        "\n"
      ]
    },
    {
      "cell_type": "code",
      "execution_count": null,
      "metadata": {
        "collapsed": false
      },
      "outputs": [],
      "source": [
        "s[C].parallel(C.op.axis[0])"
      ]
    },
    {
      "cell_type": "markdown",
      "metadata": {},
      "source": [
        "The ``tvm.lower`` command will generate the Intermediate Representation (IR)\n",
        "of the TE, with the corresponding schedule. By lowering the expression as we\n",
        "apply different schedule operations, we can see the effect of scheduling on\n",
        "the ordering of the computation. We use the flag ``simple_mode=True`` to\n",
        "return a readable C-style statement.\n",
        "\n"
      ]
    },
    {
      "cell_type": "code",
      "execution_count": null,
      "metadata": {
        "collapsed": false
      },
      "outputs": [],
      "source": [
        "print(tvm.lower(s, [A, B, C], simple_mode=True))"
      ]
    },
    {
      "cell_type": "markdown",
      "metadata": {},
      "source": [
        "It's now possible for TVM to run these blocks on independent threads. Let's\n",
        "compile and run this new schedule with the parallel operation applied:\n",
        "\n"
      ]
    },
    {
      "cell_type": "code",
      "execution_count": null,
      "metadata": {
        "collapsed": false
      },
      "outputs": [],
      "source": [
        "fadd_parallel = tvm.build(s, [A, B, C], tgt, name=\"myadd_parallel\")\n",
        "fadd_parallel(a, b, c)\n",
        "\n",
        "tvm.testing.assert_allclose(c.numpy(), a.numpy() + b.numpy())\n",
        "\n",
        "evaluate_addition(fadd_parallel, tgt, \"parallel\", log=log)"
      ]
    },
    {
      "cell_type": "markdown",
      "metadata": {},
      "source": [
        "### Updating the Schedule to Use Vectorization\n",
        "Modern CPUs also have the ability to perform SIMD operations on floating\n",
        "point values, and we can apply another schedule to our computation expression\n",
        "to take advantage of this. Accomplishing this requires multiple steps: first\n",
        "we have to split the schedule into inner and outer loops using the split\n",
        "scheduling primitive. The inner loops can use vectorization to use SIMD\n",
        "instructions using the vectorize scheduling primitive, then the outer loops\n",
        "can be parallelized using the parallel scheduling primitive. Choose the split\n",
        "factor to be the number of threads on your CPU.\n",
        "\n"
      ]
    },
    {
      "cell_type": "code",
      "execution_count": null,
      "metadata": {
        "collapsed": false
      },
      "outputs": [],
      "source": [
        "# Recreate the schedule, since we modified it with the parallel operation in\n",
        "# the previous example\n",
        "n = te.var(\"n\")\n",
        "A = te.placeholder((n,), name=\"A\")\n",
        "B = te.placeholder((n,), name=\"B\")\n",
        "C = te.compute(A.shape, lambda i: A[i] + B[i], name=\"C\")\n",
        "\n",
        "s = te.create_schedule(C.op)\n",
        "\n",
        "# This factor should be chosen to match the number of threads appropriate for\n",
        "# your CPU. This will vary depending on architecture, but a good rule is\n",
        "# setting this factor to equal the number of available CPU cores.\n",
        "factor = 4\n",
        "\n",
        "outer, inner = s[C].split(C.op.axis[0], factor=factor)\n",
        "s[C].parallel(outer)\n",
        "s[C].vectorize(inner)\n",
        "\n",
        "fadd_vector = tvm.build(s, [A, B, C], tgt, name=\"myadd_parallel\")\n",
        "\n",
        "evaluate_addition(fadd_vector, tgt, \"vector\", log=log)\n",
        "\n",
        "print(tvm.lower(s, [A, B, C], simple_mode=True))"
      ]
    },
    {
      "cell_type": "markdown",
      "metadata": {},
      "source": [
        "### Comparing the Different Schedules\n",
        "We can now compare the different schedules\n",
        "\n"
      ]
    },
    {
      "cell_type": "code",
      "execution_count": null,
      "metadata": {
        "collapsed": false
      },
      "outputs": [],
      "source": [
        "baseline = log[0][1]\n",
        "print(\"%s\\t%s\\t%s\" % (\"Operator\".rjust(20), \"Timing\".rjust(20), \"Performance\".rjust(20)))\n",
        "for result in log:\n",
        "    print(\n",
        "        \"%s\\t%s\\t%s\"\n",
        "        % (result[0].rjust(20), str(result[1]).rjust(20), str(result[1] / baseline).rjust(20))\n",
        "    )"
      ]
    },
    {
      "cell_type": "markdown",
      "metadata": {},
      "source": [
        "<div class=\"alert alert-info\"><h4>Code Specialization</h4><p>As you may have noticed, the declarations of ``A``, ``B`` and ``C`` all\n",
        "take the same shape argument, ``n``. TVM will take advantage of this to\n",
        "pass only a single shape argument to the kernel, as you will find in the\n",
        "printed device code. This is one form of specialization.\n",
        "\n",
        "On the host side, TVM will automatically generate check code that checks\n",
        "the constraints in the parameters. So if you pass arrays with different\n",
        "shapes into fadd, an error will be raised.\n",
        "\n",
        "We can do more specializations. For example, we can write :code:`n =\n",
        "tvm.runtime.convert(1024)` instead of :code:`n = te.var(\"n\")`, in the\n",
        "computation declaration. The generated function will only take vectors with\n",
        "length 1024.</p></div>"
      ]
    },
    {
      "cell_type": "markdown",
      "metadata": {},
      "source": [
        "We've defined, scheduled, and compiled a vector addition operator, which we\n",
        "were then able to execute on the TVM runtime. We can save the operator as a\n",
        "library, which we can then load later using the TVM runtime.\n",
        "\n"
      ]
    },
    {
      "cell_type": "markdown",
      "metadata": {},
      "source": [
        "### Targeting Vector Addition for GPUs (Optional)\n",
        "TVM is capable of targeting multiple architectures. In the next example, we\n",
        "will target compilation of the vector addition to GPUs.\n",
        "\n"
      ]
    },
    {
      "cell_type": "code",
      "execution_count": null,
      "metadata": {
        "collapsed": false
      },
      "outputs": [],
      "source": [
        "# If you want to run this code, change ``run_cuda = True``\n",
        "# Note that by default this example is not run in the docs CI.\n",
        "\n",
        "run_cuda = False\n",
        "if run_cuda:\n",
        "    # Change this target to the correct backend for you gpu. For example: cuda (NVIDIA GPUs),\n",
        "    # rocm (Radeon GPUS), OpenCL (opencl).\n",
        "    tgt_gpu = tvm.target.Target(target=\"cuda\", host=\"llvm\")\n",
        "\n",
        "    # Recreate the schedule\n",
        "    n = te.var(\"n\")\n",
        "    A = te.placeholder((n,), name=\"A\")\n",
        "    B = te.placeholder((n,), name=\"B\")\n",
        "    C = te.compute(A.shape, lambda i: A[i] + B[i], name=\"C\")\n",
        "    print(type(C))\n",
        "\n",
        "    s = te.create_schedule(C.op)\n",
        "\n",
        "    bx, tx = s[C].split(C.op.axis[0], factor=64)\n",
        "\n",
        "    ################################################################################\n",
        "    # Finally we must bind the iteration axis bx and tx to threads in the GPU\n",
        "    # compute grid. The naive schedule is not valid for GPUs, and these are\n",
        "    # specific constructs that allow us to generate code that runs on a GPU.\n",
        "\n",
        "    s[C].bind(bx, te.thread_axis(\"blockIdx.x\"))\n",
        "    s[C].bind(tx, te.thread_axis(\"threadIdx.x\"))\n",
        "\n",
        "    ######################################################################\n",
        "    # Compilation\n",
        "    # -----------\n",
        "    # After we have finished specifying the schedule, we can compile it\n",
        "    # into a TVM function. By default TVM compiles into a type-erased\n",
        "    # function that can be directly called from the python side.\n",
        "    #\n",
        "    # In the following line, we use tvm.build to create a function.\n",
        "    # The build function takes the schedule, the desired signature of the\n",
        "    # function (including the inputs and outputs) as well as target language\n",
        "    # we want to compile to.\n",
        "    #\n",
        "    # The result of compilation fadd is a GPU device function (if GPU is\n",
        "    # involved) as well as a host wrapper that calls into the GPU\n",
        "    # function. fadd is the generated host wrapper function, it contains\n",
        "    # a reference to the generated device function internally.\n",
        "\n",
        "    fadd = tvm.build(s, [A, B, C], target=tgt_gpu, name=\"myadd\")\n",
        "\n",
        "    ################################################################################\n",
        "    # The compiled TVM function exposes a concise C API that can be invoked from\n",
        "    # any language.\n",
        "    #\n",
        "    # We provide a minimal array API in python to aid quick testing and prototyping.\n",
        "    # The array API is based on the `DLPack <https://github.com/dmlc/dlpack>`_ standard.\n",
        "    #\n",
        "    # - We first create a GPU device.\n",
        "    # - Then tvm.nd.array copies the data to the GPU.\n",
        "    # - ``fadd`` runs the actual computation\n",
        "    # - ``numpy()`` copies the GPU array back to the CPU (so we can verify correctness).\n",
        "    #\n",
        "    # Note that copying the data to and from the memory on the GPU is a required step.\n",
        "\n",
        "    dev = tvm.device(tgt_gpu.kind.name, 0)\n",
        "\n",
        "    n = 1024\n",
        "    a = tvm.nd.array(np.random.uniform(size=n).astype(A.dtype), dev)\n",
        "    b = tvm.nd.array(np.random.uniform(size=n).astype(B.dtype), dev)\n",
        "    c = tvm.nd.array(np.zeros(n, dtype=C.dtype), dev)\n",
        "    fadd(a, b, c)\n",
        "    tvm.testing.assert_allclose(c.numpy(), a.numpy() + b.numpy())\n",
        "\n",
        "    ################################################################################\n",
        "    # Inspect the Generated GPU Code\n",
        "    # ~~~~~~~~~~~~~~~~~~~~~~~~~~~~~~\n",
        "    # You can inspect the generated code in TVM. The result of tvm.build is a TVM\n",
        "    # Module. fadd is the host module that contains the host wrapper, it also\n",
        "    # contains a device module for the CUDA (GPU) function.\n",
        "    #\n",
        "    # The following code fetches the device module and prints the content code.\n",
        "\n",
        "    if (\n",
        "        tgt_gpu.kind.name == \"cuda\"\n",
        "        or tgt_gpu.kind.name == \"rocm\"\n",
        "        or tgt_gpu.kind.name.startswith(\"opencl\")\n",
        "    ):\n",
        "        dev_module = fadd.imported_modules[0]\n",
        "        print(\"-----GPU code-----\")\n",
        "        print(dev_module.get_source())\n",
        "    else:\n",
        "        print(fadd.get_source())"
      ]
    },
    {
      "cell_type": "markdown",
      "metadata": {},
      "source": [
        "## Saving and Loading Compiled Modules\n",
        "Besides runtime compilation, we can save the compiled modules into a file and\n",
        "load them back later.\n",
        "\n",
        "The following code first performs the following steps:\n",
        "\n",
        "- It saves the compiled host module into an object file.\n",
        "- Then it saves the device module into a ptx file.\n",
        "- cc.create_shared calls a compiler (gcc) to create a shared library\n",
        "\n"
      ]
    },
    {
      "cell_type": "code",
      "execution_count": null,
      "metadata": {
        "collapsed": false
      },
      "outputs": [],
      "source": [
        "from tvm.contrib import cc\n",
        "from tvm.contrib import utils\n",
        "\n",
        "temp = utils.tempdir()\n",
        "fadd.save(temp.relpath(\"myadd.o\"))\n",
        "if tgt.kind.name == \"cuda\":\n",
        "    fadd.imported_modules[0].save(temp.relpath(\"myadd.ptx\"))\n",
        "if tgt.kind.name == \"rocm\":\n",
        "    fadd.imported_modules[0].save(temp.relpath(\"myadd.hsaco\"))\n",
        "if tgt.kind.name.startswith(\"opencl\"):\n",
        "    fadd.imported_modules[0].save(temp.relpath(\"myadd.cl\"))\n",
        "cc.create_shared(temp.relpath(\"myadd.so\"), [temp.relpath(\"myadd.o\")])\n",
        "print(temp.listdir())"
      ]
    },
    {
      "cell_type": "markdown",
      "metadata": {},
      "source": [
        "<div class=\"alert alert-info\"><h4>Module Storage Format</h4><p>The CPU (host) module is directly saved as a shared library (.so). There\n",
        "can be multiple customized formats of the device code. In our example, the\n",
        "device code is stored in ptx, as well as a meta data json file. They can be\n",
        "loaded and linked separately via import.</p></div>"
      ]
    },
    {
      "cell_type": "markdown",
      "metadata": {},
      "source": [
        "### Load Compiled Module\n",
        "We can load the compiled module from the file system and run the code. The\n",
        "following code loads the host and device module separately and links them\n",
        "together. We can verify that the newly loaded function works.\n",
        "\n"
      ]
    },
    {
      "cell_type": "code",
      "execution_count": null,
      "metadata": {
        "collapsed": false
      },
      "outputs": [],
      "source": [
        "fadd1 = tvm.runtime.load_module(temp.relpath(\"myadd.so\"))\n",
        "if tgt.kind.name == \"cuda\":\n",
        "    fadd1_dev = tvm.runtime.load_module(temp.relpath(\"myadd.ptx\"))\n",
        "    fadd1.import_module(fadd1_dev)\n",
        "\n",
        "if tgt.kind.name == \"rocm\":\n",
        "    fadd1_dev = tvm.runtime.load_module(temp.relpath(\"myadd.hsaco\"))\n",
        "    fadd1.import_module(fadd1_dev)\n",
        "\n",
        "if tgt.kind.name.startswith(\"opencl\"):\n",
        "    fadd1_dev = tvm.runtime.load_module(temp.relpath(\"myadd.cl\"))\n",
        "    fadd1.import_module(fadd1_dev)\n",
        "\n",
        "fadd1(a, b, c)\n",
        "tvm.testing.assert_allclose(c.numpy(), a.numpy() + b.numpy())"
      ]
    },
    {
      "cell_type": "markdown",
      "metadata": {},
      "source": [
        "### Pack Everything into One Library\n",
        "In the above example, we store the device and host code separately. TVM also\n",
        "supports export everything as one shared library. Under the hood, we pack\n",
        "the device modules into binary blobs and link them together with the host\n",
        "code. Currently we support packing of Metal, OpenCL and CUDA modules.\n",
        "\n"
      ]
    },
    {
      "cell_type": "code",
      "execution_count": null,
      "metadata": {
        "collapsed": false
      },
      "outputs": [],
      "source": [
        "fadd.export_library(temp.relpath(\"myadd_pack.so\"))\n",
        "fadd2 = tvm.runtime.load_module(temp.relpath(\"myadd_pack.so\"))\n",
        "fadd2(a, b, c)\n",
        "tvm.testing.assert_allclose(c.numpy(), a.numpy() + b.numpy())"
      ]
    },
    {
      "cell_type": "markdown",
      "metadata": {},
      "source": [
        "<div class=\"alert alert-info\"><h4>Runtime API and Thread-Safety</h4><p>The compiled modules of TVM do not depend on the TVM compiler. Instead,\n",
        "they only depend on a minimum runtime library. The TVM runtime library\n",
        "wraps the device drivers and provides thread-safe and device agnostic calls\n",
        "into the compiled functions.\n",
        "\n",
        "This means that you can call the compiled TVM functions from any thread, on\n",
        "any GPUs, provided that you have compiled the code for that GPU.</p></div>"
      ]
    },
    {
      "cell_type": "markdown",
      "metadata": {},
      "source": [
        "## Generate OpenCL Code\n",
        "TVM provides code generation features into multiple backends. We can also\n",
        "generate OpenCL code or LLVM code that runs on CPU backends.\n",
        "\n",
        "The following code blocks generate OpenCL code, creates array on an OpenCL\n",
        "device, and verifies the correctness of the code.\n",
        "\n"
      ]
    },
    {
      "cell_type": "code",
      "execution_count": null,
      "metadata": {
        "collapsed": false
      },
      "outputs": [],
      "source": [
        "if tgt.kind.name.startswith(\"opencl\"):\n",
        "    fadd_cl = tvm.build(s, [A, B, C], tgt, name=\"myadd\")\n",
        "    print(\"------opencl code------\")\n",
        "    print(fadd_cl.imported_modules[0].get_source())\n",
        "    dev = tvm.cl(0)\n",
        "    n = 1024\n",
        "    a = tvm.nd.array(np.random.uniform(size=n).astype(A.dtype), dev)\n",
        "    b = tvm.nd.array(np.random.uniform(size=n).astype(B.dtype), dev)\n",
        "    c = tvm.nd.array(np.zeros(n, dtype=C.dtype), dev)\n",
        "    fadd_cl(a, b, c)\n",
        "    tvm.testing.assert_allclose(c.numpy(), a.numpy() + b.numpy())"
      ]
    },
    {
      "cell_type": "markdown",
      "metadata": {},
      "source": [
        "<div class=\"alert alert-info\"><h4>TE Scheduling Primitives</h4><p>TVM includes a number of different scheduling primitives:\n",
        "\n",
        "- split: splits a specified axis into two axises by the defined factor.\n",
        "- tile: tiles will split a computation across two axes by the defined factors.\n",
        "- fuse: fuses two consecutive axises of one computation.\n",
        "- reorder: can reorder the axises of a computation into a defined order.\n",
        "- bind: can bind a computation to a specific thread, useful in GPU programming.\n",
        "- compute_at: by default, TVM will compute tensors at the outermost level\n",
        "  of the function, or the root, by default. compute_at specifies that one\n",
        "  tensor should be computed at the first axis of computation for another\n",
        "  operator.\n",
        "- compute_inline: when marked inline, a computation will be expanded then\n",
        "  inserted into the address where the tensor is required.\n",
        "- compute_root: moves a computation to the outermost layer, or root, of the\n",
        "  function. This means that stage of the computation will be fully computed\n",
        "  before it moves on to the next stage.\n",
        "\n",
        "A complete description of these primitives can be found in the\n",
        "`Schedule Primitives <schedule_primitives>` docs page.</p></div>"
      ]
    },
    {
      "cell_type": "markdown",
      "metadata": {},
      "source": [
        "## Example 2: Manually Optimizing Matrix Multiplication with TE\n",
        "\n",
        "Now we will consider a second, more advanced example, demonstrating how with\n",
        "just 18 lines of python code TVM speeds up a common matrix multiplication operation by 18x.\n",
        "\n",
        "**Matrix multiplication is a compute intensive operation. There are\n",
        "two important optimizations for good CPU performance:**\n",
        "\n",
        "1. Increase the cache hit rate of memory access. Both complex\n",
        "   numerical computation and hot-spot memory access can be\n",
        "   accelerated by a high cache hit rate. This requires us to\n",
        "   transform the origin memory access pattern to a pattern that fits\n",
        "   the cache policy.\n",
        "\n",
        "2. SIMD (Single instruction multi-data), also known as the vector\n",
        "   processing unit. On each cycle instead of processing a single\n",
        "   value, SIMD can process a small batch of data.  This requires us\n",
        "   to transform the data access pattern in the loop body in uniform\n",
        "   pattern so that the LLVM backend can lower it to SIMD.\n",
        "\n",
        "The techniques used in this tutorial are a subset of tricks mentioned in this\n",
        "[repository](https://github.com/flame/how-to-optimize-gemm). Some of them\n",
        "have been applied by TVM abstraction automatically, but some of them cannot\n",
        "be automatically applied due to TVM constraints.\n",
        "\n"
      ]
    },
    {
      "cell_type": "markdown",
      "metadata": {},
      "source": [
        "### Preparation and Performance Baseline\n",
        "\n",
        "We begin by collecting performance data on the `numpy` implementation of\n",
        "matrix multiplication.\n",
        "\n"
      ]
    },
    {
      "cell_type": "code",
      "execution_count": null,
      "metadata": {
        "collapsed": false
      },
      "outputs": [],
      "source": [
        "import tvm\n",
        "import tvm.testing\n",
        "from tvm import te\n",
        "import numpy\n",
        "\n",
        "# The size of the matrix\n",
        "# (M, K) x (K, N)\n",
        "# You are free to try out different shapes, sometimes TVM optimization outperforms numpy with MKL.\n",
        "M = 1024\n",
        "K = 1024\n",
        "N = 1024\n",
        "\n",
        "# The default tensor data type in tvm\n",
        "dtype = \"float32\"\n",
        "\n",
        "# You will want to adjust the target to match any CPU vector extensions you\n",
        "# might have. For example, if you're using using Intel AVX2 (Advanced Vector\n",
        "# Extensions) ISA for SIMD, you can get the best performance by changing the\n",
        "# following line to ``llvm -mcpu=core-avx2``, or specific type of CPU you use.\n",
        "# Recall that you're using llvm, you can get this information from the command\n",
        "# ``llc --version`` to get the CPU type, and you can check ``/proc/cpuinfo``\n",
        "# for additional extensions that your processor might support.\n",
        "\n",
        "target = tvm.target.Target(target=\"llvm\", host=\"llvm\")\n",
        "dev = tvm.device(target.kind.name, 0)\n",
        "\n",
        "# Random generated tensor for testing\n",
        "a = tvm.nd.array(numpy.random.rand(M, K).astype(dtype), dev)\n",
        "b = tvm.nd.array(numpy.random.rand(K, N).astype(dtype), dev)\n",
        "\n",
        "# Repeatedly perform a matrix multiplication to get a performance baseline\n",
        "# for the default numpy implementation\n",
        "np_repeat = 100\n",
        "np_running_time = timeit.timeit(\n",
        "    setup=\"import numpy\\n\"\n",
        "    \"M = \" + str(M) + \"\\n\"\n",
        "    \"K = \" + str(K) + \"\\n\"\n",
        "    \"N = \" + str(N) + \"\\n\"\n",
        "    'dtype = \"float32\"\\n'\n",
        "    \"a = numpy.random.rand(M, K).astype(dtype)\\n\"\n",
        "    \"b = numpy.random.rand(K, N).astype(dtype)\\n\",\n",
        "    stmt=\"answer = numpy.dot(a, b)\",\n",
        "    number=np_repeat,\n",
        ")\n",
        "print(\"Numpy running time: %f\" % (np_running_time / np_repeat))\n",
        "\n",
        "answer = numpy.dot(a.numpy(), b.numpy())"
      ]
    },
    {
      "cell_type": "markdown",
      "metadata": {},
      "source": [
        "Now we write a basic matrix multiplication using TVM TE and verify that it\n",
        "produces the same results as the numpy implementation. We also write a\n",
        "function that will help us measure the performance of the schedule\n",
        "optimizations.\n",
        "\n"
      ]
    },
    {
      "cell_type": "code",
      "execution_count": null,
      "metadata": {
        "collapsed": false
      },
      "outputs": [],
      "source": [
        "# TVM Matrix Multiplication using TE\n",
        "k = te.reduce_axis((0, K), \"k\")\n",
        "A = te.placeholder((M, K), name=\"A\")\n",
        "B = te.placeholder((K, N), name=\"B\")\n",
        "C = te.compute((M, N), lambda x, y: te.sum(A[x, k] * B[k, y], axis=k), name=\"C\")\n",
        "\n",
        "# Default schedule\n",
        "s = te.create_schedule(C.op)\n",
        "func = tvm.build(s, [A, B, C], target=target, name=\"mmult\")\n",
        "\n",
        "c = tvm.nd.array(numpy.zeros((M, N), dtype=dtype), dev)\n",
        "func(a, b, c)\n",
        "tvm.testing.assert_allclose(c.numpy(), answer, rtol=1e-5)\n",
        "\n",
        "\n",
        "def evaluate_operation(s, vars, target, name, optimization, log):\n",
        "    func = tvm.build(s, [A, B, C], target=target, name=\"mmult\")\n",
        "    assert func\n",
        "\n",
        "    c = tvm.nd.array(numpy.zeros((M, N), dtype=dtype), dev)\n",
        "    func(a, b, c)\n",
        "    tvm.testing.assert_allclose(c.numpy(), answer, rtol=1e-5)\n",
        "\n",
        "    evaluator = func.time_evaluator(func.entry_name, dev, number=10)\n",
        "    mean_time = evaluator(a, b, c).mean\n",
        "    print(\"%s: %f\" % (optimization, mean_time))\n",
        "    log.append((optimization, mean_time))\n",
        "\n",
        "\n",
        "log = []\n",
        "\n",
        "evaluate_operation(s, [A, B, C], target=target, name=\"mmult\", optimization=\"none\", log=log)"
      ]
    },
    {
      "cell_type": "markdown",
      "metadata": {},
      "source": [
        "Let's take a look at the intermediate representation of the operator and\n",
        "default schedule using the TVM lower function. Note how the implementation is\n",
        "essentially a naive implementation of a matrix multiplication, using three\n",
        "nested loops over the indices of the A and B matrices.\n",
        "\n"
      ]
    },
    {
      "cell_type": "code",
      "execution_count": null,
      "metadata": {
        "collapsed": false
      },
      "outputs": [],
      "source": [
        "print(tvm.lower(s, [A, B, C], simple_mode=True))"
      ]
    },
    {
      "cell_type": "markdown",
      "metadata": {},
      "source": [
        "### Optimization 1: Blocking\n",
        "\n",
        "A important trick to enhance the cache hit rate is blocking, where you\n",
        "structure memory access such that the inside a block is a small neighborhood\n",
        "that has high memory locality. In this tutorial, we pick a block factor of\n",
        "32. This will result in a block that will fill a 32 * 32 * sizeof(float) area\n",
        "of memory. This corresponds to a cache size of 4KB, in relation to a\n",
        "reference cache size of 32 KB for L1 cache.\n",
        "\n",
        "We begin by creating a default schedule for the ``C`` operation, then apply a\n",
        "``tile`` scheduling primitive to it with the specified block factor, with the\n",
        "scheduling primitive returning the resulting loop order from outermost to\n",
        "innermost, as a vector ``[x_outer, y_outer, x_inner, y_inner]``. We then get\n",
        "the reduction axis for output of the operation, and perform a split operation\n",
        "on it using a factor of 4. This factor doesn't directly impact the blocking\n",
        "optimization we're working on right now, but will be useful later when we\n",
        "apply vectorization.\n",
        "\n",
        "Now that the operation has been blocked, we can reorder the computation to\n",
        "put the reduction operation into the outermost loop of the computation,\n",
        "helping to guarantee that the blocked data remains in cache. This completes\n",
        "the schedule, and we can build and test the performance compared to the naive\n",
        "schedule.\n",
        "\n"
      ]
    },
    {
      "cell_type": "code",
      "execution_count": null,
      "metadata": {
        "collapsed": false
      },
      "outputs": [],
      "source": [
        "bn = 32\n",
        "\n",
        "# Blocking by loop tiling\n",
        "xo, yo, xi, yi = s[C].tile(C.op.axis[0], C.op.axis[1], bn, bn)\n",
        "(k,) = s[C].op.reduce_axis\n",
        "ko, ki = s[C].split(k, factor=4)\n",
        "\n",
        "# Hoist reduction domain outside the blocking loop\n",
        "s[C].reorder(xo, yo, ko, ki, xi, yi)\n",
        "\n",
        "evaluate_operation(s, [A, B, C], target=target, name=\"mmult\", optimization=\"blocking\", log=log)"
      ]
    },
    {
      "cell_type": "markdown",
      "metadata": {},
      "source": [
        "By reordering the computation to take advantage of caching, you should see a\n",
        "significant improvement in the performance of the computation. Now, print the\n",
        "internal representation and compare it to the original:\n",
        "\n"
      ]
    },
    {
      "cell_type": "code",
      "execution_count": null,
      "metadata": {
        "collapsed": false
      },
      "outputs": [],
      "source": [
        "print(tvm.lower(s, [A, B, C], simple_mode=True))"
      ]
    },
    {
      "cell_type": "markdown",
      "metadata": {},
      "source": [
        "### Optimization 2: Vectorization\n",
        "\n",
        "Another important optimization trick is vectorization. When the memory access\n",
        "pattern is uniform, the compiler can detect this pattern and pass the\n",
        "continuous memory to the SIMD vector processor. In TVM, we can use the\n",
        "``vectorize`` interface to hint the compiler this pattern, taking advantage\n",
        "of this hardware feature.\n",
        "\n",
        "In this tutorial, we chose to vectorize the inner loop row data since it is\n",
        "already cache friendly from our previous optimizations.\n",
        "\n"
      ]
    },
    {
      "cell_type": "code",
      "execution_count": null,
      "metadata": {
        "collapsed": false
      },
      "outputs": [],
      "source": [
        "# Apply the vectorization optimization\n",
        "s[C].vectorize(yi)\n",
        "\n",
        "evaluate_operation(s, [A, B, C], target=target, name=\"mmult\", optimization=\"vectorization\", log=log)\n",
        "\n",
        "# The generalized IR after vectorization\n",
        "print(tvm.lower(s, [A, B, C], simple_mode=True))"
      ]
    },
    {
      "cell_type": "markdown",
      "metadata": {},
      "source": [
        "### Optimization 3: Loop Permutation\n",
        "\n",
        "If we look at the above IR, we can see the inner loop row data is vectorized\n",
        "and B is transformed into PackedB (this is evident by the `(float32x32*)B2`\n",
        "portion of the inner loop). The traversal of PackedB is sequential now. So we\n",
        "will look at the access pattern of A. In current schedule, A is accessed\n",
        "column by column which is not cache friendly. If we change the nested loop\n",
        "order of `ki` and inner axes `xi`, the access pattern for A matrix will be\n",
        "more cache friendly.\n",
        "\n"
      ]
    },
    {
      "cell_type": "code",
      "execution_count": null,
      "metadata": {
        "collapsed": false
      },
      "outputs": [],
      "source": [
        "s = te.create_schedule(C.op)\n",
        "xo, yo, xi, yi = s[C].tile(C.op.axis[0], C.op.axis[1], bn, bn)\n",
        "(k,) = s[C].op.reduce_axis\n",
        "ko, ki = s[C].split(k, factor=4)\n",
        "\n",
        "# re-ordering\n",
        "s[C].reorder(xo, yo, ko, xi, ki, yi)\n",
        "s[C].vectorize(yi)\n",
        "\n",
        "evaluate_operation(\n",
        "    s, [A, B, C], target=target, name=\"mmult\", optimization=\"loop permutation\", log=log\n",
        ")\n",
        "\n",
        "# Again, print the new generalized IR\n",
        "print(tvm.lower(s, [A, B, C], simple_mode=True))"
      ]
    },
    {
      "cell_type": "markdown",
      "metadata": {},
      "source": [
        "### Optimization 4: Array Packing\n",
        "\n",
        "Another important trick is array packing. This trick is to reorder the\n",
        "storage dimension of the array to convert the continuous access pattern on\n",
        "certain dimension to a sequential pattern after flattening.\n",
        "\n",
        "<img src=\"https://github.com/dmlc/web-data/raw/main/tvm/tutorial/array-packing.png\" align=\"center\">\n",
        "\n",
        "Just as it is shown in the figure above, after blocking the computations, we\n",
        "can observe the array access pattern of B (after flattening), which is\n",
        "regular but discontinuous. We expect that after some transformation we can\n",
        "get a continuous access pattern. By reordering a ``[16][16]`` array to a\n",
        "``[16/4][16][4]`` array the access pattern of B will be sequential when\n",
        "grabbing the corresponding value from the packed array.\n",
        "\n",
        "To accomplish this, we are going to have to start with a new default\n",
        "schedule, taking into account the new packing of B. It's worth taking a\n",
        "moment to comment on this: TE is a powerful and expressive language for\n",
        "writing optimized operators, but it often requires some knowledge of the\n",
        "underlying algorithm, data structures, and hardware target that you are\n",
        "writing for. Later in the tutorial, we will discuss some of the options for\n",
        "letting TVM take that burden. Regardless, let's move on with the new\n",
        "optimized schedule.\n",
        "\n"
      ]
    },
    {
      "cell_type": "code",
      "execution_count": null,
      "metadata": {
        "collapsed": false
      },
      "outputs": [],
      "source": [
        "# We have to re-write the algorithm slightly.\n",
        "packedB = te.compute((N / bn, K, bn), lambda x, y, z: B[y, x * bn + z], name=\"packedB\")\n",
        "C = te.compute(\n",
        "    (M, N),\n",
        "    lambda x, y: te.sum(A[x, k] * packedB[y // bn, k, tvm.tir.indexmod(y, bn)], axis=k),\n",
        "    name=\"C\",\n",
        ")\n",
        "\n",
        "s = te.create_schedule(C.op)\n",
        "\n",
        "xo, yo, xi, yi = s[C].tile(C.op.axis[0], C.op.axis[1], bn, bn)\n",
        "(k,) = s[C].op.reduce_axis\n",
        "ko, ki = s[C].split(k, factor=4)\n",
        "\n",
        "s[C].reorder(xo, yo, ko, xi, ki, yi)\n",
        "s[C].vectorize(yi)\n",
        "\n",
        "x, y, z = s[packedB].op.axis\n",
        "s[packedB].vectorize(z)\n",
        "s[packedB].parallel(x)\n",
        "\n",
        "evaluate_operation(s, [A, B, C], target=target, name=\"mmult\", optimization=\"array packing\", log=log)\n",
        "\n",
        "# Here is the generated IR after array packing.\n",
        "print(tvm.lower(s, [A, B, C], simple_mode=True))"
      ]
    },
    {
      "cell_type": "markdown",
      "metadata": {},
      "source": [
        "### Optimization 5: Optimizing Block Writing Through Caching\n",
        "\n",
        "Up to this point all of our optimizations have focused on efficiently\n",
        "accessing and computing the data from the `A` and `B` matrices to compute the\n",
        "`C` matrix. After the blocking optimization, the operator will write result\n",
        "to `C` block by block, and the access pattern is not sequential. We can\n",
        "address this by using a sequential cache array, using a combination of\n",
        "`cache_write`, `compute_at`, and `unroll`to hold the block results and write\n",
        "to `C` when all the block results are ready.\n",
        "\n"
      ]
    },
    {
      "cell_type": "code",
      "execution_count": null,
      "metadata": {
        "collapsed": false
      },
      "outputs": [],
      "source": [
        "s = te.create_schedule(C.op)\n",
        "\n",
        "# Allocate write cache\n",
        "CC = s.cache_write(C, \"global\")\n",
        "\n",
        "xo, yo, xi, yi = s[C].tile(C.op.axis[0], C.op.axis[1], bn, bn)\n",
        "\n",
        "# Write cache is computed at yo\n",
        "s[CC].compute_at(s[C], yo)\n",
        "\n",
        "# New inner axes\n",
        "xc, yc = s[CC].op.axis\n",
        "\n",
        "(k,) = s[CC].op.reduce_axis\n",
        "ko, ki = s[CC].split(k, factor=4)\n",
        "s[CC].reorder(ko, xc, ki, yc)\n",
        "s[CC].unroll(ki)\n",
        "s[CC].vectorize(yc)\n",
        "\n",
        "x, y, z = s[packedB].op.axis\n",
        "s[packedB].vectorize(z)\n",
        "s[packedB].parallel(x)\n",
        "\n",
        "evaluate_operation(s, [A, B, C], target=target, name=\"mmult\", optimization=\"block caching\", log=log)\n",
        "\n",
        "# Here is the generated IR after write cache blocking.\n",
        "print(tvm.lower(s, [A, B, C], simple_mode=True))"
      ]
    },
    {
      "cell_type": "markdown",
      "metadata": {},
      "source": [
        "### Optimization 6: Parallelization\n",
        "\n",
        "So far, our computation is only designed to use a single core. Nearly all\n",
        "modern processors have multiple cores, and computation can benefit from\n",
        "running computations in parallel. The final optimization is to take advantage\n",
        "of thread-level parallelization.\n",
        "\n"
      ]
    },
    {
      "cell_type": "code",
      "execution_count": null,
      "metadata": {
        "collapsed": false
      },
      "outputs": [],
      "source": [
        "# parallel\n",
        "s[C].parallel(xo)\n",
        "\n",
        "x, y, z = s[packedB].op.axis\n",
        "s[packedB].vectorize(z)\n",
        "s[packedB].parallel(x)\n",
        "\n",
        "evaluate_operation(\n",
        "    s, [A, B, C], target=target, name=\"mmult\", optimization=\"parallelization\", log=log\n",
        ")\n",
        "\n",
        "# Here is the generated IR after parallelization.\n",
        "print(tvm.lower(s, [A, B, C], simple_mode=True))"
      ]
    },
    {
      "cell_type": "markdown",
      "metadata": {},
      "source": [
        "### Summary of Matrix Multiplication Example\n",
        "\n",
        "After applying the above simple optimizations with only 18 lines of code, our\n",
        "generated code can begin to approach the performance of `numpy` with the Math\n",
        "Kernel Library (MKL). Since we've been logging the performance as we've been\n",
        "working, we can compare the results.\n",
        "\n"
      ]
    },
    {
      "cell_type": "code",
      "execution_count": null,
      "metadata": {
        "collapsed": false
      },
      "outputs": [],
      "source": [
        "baseline = log[0][1]\n",
        "print(\"%s\\t%s\\t%s\" % (\"Operator\".rjust(20), \"Timing\".rjust(20), \"Performance\".rjust(20)))\n",
        "for result in log:\n",
        "    print(\n",
        "        \"%s\\t%s\\t%s\"\n",
        "        % (result[0].rjust(20), str(result[1]).rjust(20), str(result[1] / baseline).rjust(20))\n",
        "    )"
      ]
    },
    {
      "cell_type": "markdown",
      "metadata": {},
      "source": [
        "Note that the outputs on the web page reflect the running times on a\n",
        "non-exclusive Docker container, and should be considered unreliable. It is\n",
        "highly encouraged to run the tutorial by yourself to observe the performance\n",
        "gain achieved by TVM, and to carefully work through each example to\n",
        "understand the iterative improvements that are made to the matrix\n",
        "multiplication operation.\n",
        "\n"
      ]
    },
    {
      "cell_type": "markdown",
      "metadata": {},
      "source": [
        "## Final Notes and Summary\n",
        "As mentioned earlier, how to apply optimizations using TE and scheduling\n",
        "primitives can require some knowledge of the underlying architecture and\n",
        "algorithms. However, TE was designed to act as a foundation for more complex\n",
        "algorithms that can search the potential optimization. With the knowledge you\n",
        "have from this introduction to TE, we can now begin to explore how TVM can\n",
        "automate the schedule optimization process.\n",
        "\n",
        "This tutorial provided a walk-through of TVM Tensor Expression (TE) workflow\n",
        "using a vector add and a matrix multiplication examples. The general workflow\n",
        "is\n",
        "\n",
        "- Describe your computation via a series of operations.\n",
        "- Describe how we want to compute use schedule primitives.\n",
        "- Compile to the target function we want.\n",
        "- Optionally, save the function to be loaded later.\n",
        "\n",
        "Upcoming tutorials expand on the matrix multiplication example, and show how\n",
        "you can build generic templates of the matrix multiplication and other\n",
        "operations with tunable parameters that allows you to automatically optimize\n",
        "the computation for specific platforms.\n",
        "\n"
      ]
    }
  ],
  "metadata": {
    "kernelspec": {
      "display_name": "Python 3 (ipykernel)",
      "language": "python",
      "name": "python3"
    }
  },
  "nbformat": 4,
  "nbformat_minor": 0
}
