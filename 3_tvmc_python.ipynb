{
  "cells": [
    {
      "cell_type": "markdown",
      "metadata": {},
      "source": [
        "\n",
        "# Getting Starting using TVMC Python: a high-level API for TVM\n",
        "**Author**:\n",
        "[Jocelyn Shiue](https://github.com/CircleSpin)\n",
        "\n",
        "Hi! Here we explain the scripting tool designed for the complete TVM beginner. 🙂\n",
        "\n",
        "Before we get started let's get an example model if you don't already have one.\n",
        "Follow the steps to download a resnet model via the terminal:\n",
        "\n",
        "```python\n",
        "mkdir myscripts\n",
        "cd myscripts\n",
        "wget https://github.com/onnx/models/raw/b9a54e89508f101a1611cd64f4ef56b9cb62c7cf/vision/classification/resnet/model/resnet50-v2-7.onnx\n",
        "mv resnet50-v2-7.onnx my_model.onnx\n",
        "touch tvmcpythonintro.py\n",
        "```\n",
        "Let's start editing the python file in your favorite text editor.\n"
      ]
    },
    {
      "cell_type": "markdown",
      "metadata": {},
      "source": [
        "## Step 0: Imports\n",
        "\n",
        "```python\n",
        "from tvm.driver import tvmc\n",
        "```\n"
      ]
    },
    {
      "cell_type": "code",
      "execution_count": 2,
      "metadata": {},
      "outputs": [],
      "source": [
        "from tvm.driver import tvmc"
      ]
    },
    {
      "attachments": {
        "image.png": {
          "image/png": "[encoded data removed]"
        }
      },
      "cell_type": "markdown",
      "metadata": {},
      "source": [
        "## Step 1: Load a model\n",
        "\n",
        "Let's import our model into tvmc. This step converts a machine learning model from\n",
        "a supported framework into TVM's high level graph representation language called Relay.\n",
        "This is to have a unified starting point for all models in tvm. The frameworks we currently\n",
        "support are: Keras, ONNX, Tensorflow, TFLite, and PyTorch.\n",
        "\n",
        "```python\n",
        "model = tvmc.load('my_model.onnx') #Step 1: Load\n",
        "```\n",
        "If you'd like to see the Relay, you can run:\n",
        "``model.summary()``\n",
        "\n",
        "All frameworks support overwriting the input shapes with a shape_dict argument.\n",
        "For most frameworks this is optional, but for Pytorch this is necessary as\n",
        "TVM cannot automatically search for it.\n",
        "\n",
        "```python\n",
        "#model = tvmc.load('my_model.onnx', shape_dict={'input1' : [1, 2, 3, 4], 'input2' : [1, 2, 3, 4]}) #Step 1: Load + shape_dict\n",
        "```\n",
        "A suggested way to see the model's input/shape_dict is via [netron](https://netron.app/). After opening the model,\n",
        "click the first node to see the name(s) and shape(s) in the inputs section.\n",
        "\n",
        "### vision transformer from facebook research\n",
        "- https://github.com/facebookresearch/dino?tab=readme-ov-file\n",
        "\n",
        "### from netron.app\n",
        "![image.png](attachment:image.png)"
      ]
    },
    {
      "cell_type": "code",
      "execution_count": 4,
      "metadata": {},
      "outputs": [
        {
          "name": "stdout",
          "output_type": "stream",
          "text": [
            "def @main(%onnx::MatMul_0: Tensor[(1, 2048, 2048), float32] /* ty=Tensor[(1, 2048, 2048), float32] span=/MatMul.onnx::MatMul_0:0:0 */, %onnx::MatMul_1: Tensor[(1, 2048, 2048), float32] /* ty=Tensor[(1, 2048, 2048), float32] span=/MatMul.onnx::MatMul_1:0:0 */) -> Tensor[(1, 2048, 2048), float32] {\n",
            "  %0 = transpose(%onnx::MatMul_1, axes=[0, 2, 1]) /* ty=Tensor[(1, 2048, 2048), float32] span=/MatMul:0:0 */;\n",
            "  %1 = nn.batch_matmul(%onnx::MatMul_0, %0, out_dtype=\"float32\", transpose_b=True) /* ty=Tensor[(1, 2048, 2048), float32] span=/MatMul:0:0 */;\n",
            "  reshape(%1, newshape=[1, 2048, 2048]) /* ty=Tensor[(1, 2048, 2048), float32] span=/MatMul:0:0 */\n",
            "}\n",
            "\n"
          ]
        }
      ],
      "source": [
        "#model = tvmc.load('resnet50-v2-7.onnx')\n",
        "shape_dict = {'onnx::MatMul_0': (1,2048,2048), 'onnx::MatMul_1': (1,2048,2048)}\n",
        "\n",
        "model = tvmc.load('onnx_models/matmul_bmm_2048.onnx', shape_dict=shape_dict)\n",
        "model.summary()"
      ]
    },
    {
      "cell_type": "markdown",
      "metadata": {},
      "source": [
        "## Step 2: Compile\n",
        "\n",
        "Now that our model is in Relay, our next step is to compile it to a desired\n",
        "hardware to run on. We refer to this hardware as a target. This compilation process\n",
        "translates the model from Relay into a lower-level language that the\n",
        "target machine can understand.\n",
        "\n",
        "In order to compile a model a tvm.target string is required.\n",
        "To learn more about tvm.targets and their options look at the [documentation](https://tvm.apache.org/docs/api/python/target.html).\n",
        "Some examples include:\n",
        "\n",
        "   1. cuda (Nvidia GPU)\n",
        "   2. llvm (CPU)\n",
        "   3. llvm -mcpu=cascadelake (Intel CPU)\n",
        "\n",
        "```python\n",
        "package = tvmc.compile(model, target=\"llvm\") #Step 2: Compile\n",
        "```\n",
        "The compilation step returns a package.\n",
        "\n",
        "\n"
      ]
    },
    {
      "cell_type": "code",
      "execution_count": 6,
      "metadata": {},
      "outputs": [
        {
          "name": "stdout",
          "output_type": "stream",
          "text": [
            "Get devices for measurement successfully!\n"
          ]
        },
        {
          "ename": "KeyboardInterrupt",
          "evalue": "",
          "output_type": "error",
          "traceback": [
            "\u001b[0;31m---------------------------------------------------------------------------\u001b[0m",
            "\u001b[0;31mKeyboardInterrupt\u001b[0m                         Traceback (most recent call last)",
            "Cell \u001b[0;32mIn[6], line 7\u001b[0m\n\u001b[1;32m      2\u001b[0m log_file_fb \u001b[38;5;241m=\u001b[39m \u001b[38;5;124m'\u001b[39m\u001b[38;5;124mtuning_jsons/matmul_2048.json\u001b[39m\u001b[38;5;124m'\u001b[39m\n\u001b[1;32m      4\u001b[0m \u001b[38;5;66;03m#tvmc.tune(model, target='cuda', enable_autoscheduler=True, tuning_records=log_file_fb)\u001b[39;00m\n\u001b[0;32m----> 7\u001b[0m \u001b[43mtvmc\u001b[49m\u001b[38;5;241;43m.\u001b[39;49m\u001b[43mtune\u001b[49m\u001b[43m(\u001b[49m\u001b[43mmodel\u001b[49m\u001b[43m,\u001b[49m\u001b[43m \u001b[49m\u001b[43mtarget\u001b[49m\u001b[38;5;241;43m=\u001b[39;49m\u001b[38;5;124;43m'\u001b[39;49m\u001b[38;5;124;43mcuda\u001b[39;49m\u001b[38;5;124;43m'\u001b[39;49m\u001b[43m,\u001b[49m\u001b[43m \u001b[49m\u001b[43menable_autoscheduler\u001b[49m\u001b[38;5;241;43m=\u001b[39;49m\u001b[38;5;28;43;01mTrue\u001b[39;49;00m\u001b[43m,\u001b[49m\u001b[43m \u001b[49m\u001b[43mprior_records\u001b[49m\u001b[38;5;241;43m=\u001b[39;49m\u001b[43mlog_file_fb\u001b[49m\u001b[43m,\u001b[49m\u001b[43m \u001b[49m\u001b[43mtuning_records\u001b[49m\u001b[38;5;241;43m=\u001b[39;49m\u001b[43mlog_file_fb\u001b[49m\u001b[43m)\u001b[49m\n",
            "File \u001b[0;32m~/miniconda3/envs/tvm-cu116-py310/lib/python3.10/site-packages/tvm/driver/tvmc/autotuner.py:623\u001b[0m, in \u001b[0;36mtune_model\u001b[0;34m(tvmc_model, target, tuning_records, prior_records, enable_autoscheduler, rpc_key, hostname, port, trials, target_host, tuner, min_repeat_ms, early_stopping, timeout, repeat, number, parallel, hardware_params, include_simple_tasks, log_estimated_latency, additional_target_options, tasks_filter, desired_layout, desired_layout_ops, mixed_precision, mixed_precision_ops, mixed_precision_calculation_type, mixed_precision_acc_type)\u001b[0m\n\u001b[1;32m    620\u001b[0m     logger\u001b[38;5;241m.\u001b[39minfo(\u001b[38;5;124m\"\u001b[39m\u001b[38;5;124mAutoscheduling with configuration: \u001b[39m\u001b[38;5;132;01m%s\u001b[39;00m\u001b[38;5;124m\"\u001b[39m, tuning_options)\n\u001b[1;32m    622\u001b[0m     \u001b[38;5;66;03m# Schedule the tasks (i.e., produce a schedule for each task)\u001b[39;00m\n\u001b[0;32m--> 623\u001b[0m     \u001b[43mschedule_tasks\u001b[49m\u001b[43m(\u001b[49m\u001b[43mtasks\u001b[49m\u001b[43m,\u001b[49m\u001b[43m \u001b[49m\u001b[43mweights\u001b[49m\u001b[43m,\u001b[49m\u001b[43m \u001b[49m\u001b[43mtuning_options\u001b[49m\u001b[43m,\u001b[49m\u001b[43m \u001b[49m\u001b[43mprior_records\u001b[49m\u001b[43m,\u001b[49m\u001b[43m \u001b[49m\u001b[43mlog_estimated_latency\u001b[49m\u001b[43m)\u001b[49m\n\u001b[1;32m    624\u001b[0m \u001b[38;5;28;01melse\u001b[39;00m:\n\u001b[1;32m    625\u001b[0m     \u001b[38;5;66;03m# In autotvm, trials is specified per task. We can convert the per-model input\u001b[39;00m\n\u001b[1;32m    626\u001b[0m     \u001b[38;5;66;03m# provided to per-task trials by dividing by the number of tasks.\u001b[39;00m\n\u001b[1;32m    627\u001b[0m     trials \u001b[38;5;241m=\u001b[39m \u001b[38;5;28mint\u001b[39m(\u001b[38;5;28mmax\u001b[39m(\u001b[38;5;241m1\u001b[39m, trials \u001b[38;5;241m/\u001b[39m \u001b[38;5;28mmax\u001b[39m(\u001b[38;5;28mlen\u001b[39m(tasks), \u001b[38;5;241m1\u001b[39m)))\n",
            "File \u001b[0;32m~/miniconda3/envs/tvm-cu116-py310/lib/python3.10/site-packages/tvm/driver/tvmc/autotuner.py:772\u001b[0m, in \u001b[0;36mschedule_tasks\u001b[0;34m(tasks, task_weights, tuning_options, prior_records, log_estimated_latency)\u001b[0m\n\u001b[1;32m    767\u001b[0m tuner \u001b[38;5;241m=\u001b[39m auto_scheduler\u001b[38;5;241m.\u001b[39mTaskScheduler(\n\u001b[1;32m    768\u001b[0m     tasks, task_weights, load_log_file\u001b[38;5;241m=\u001b[39mprior_records, callbacks\u001b[38;5;241m=\u001b[39mcallbacks\n\u001b[1;32m    769\u001b[0m )\n\u001b[1;32m    771\u001b[0m \u001b[38;5;66;03m# Tune the tasks\u001b[39;00m\n\u001b[0;32m--> 772\u001b[0m \u001b[43mtuner\u001b[49m\u001b[38;5;241;43m.\u001b[39;49m\u001b[43mtune\u001b[49m\u001b[43m(\u001b[49m\u001b[43mtuning_options\u001b[49m\u001b[43m)\u001b[49m\n",
            "File \u001b[0;32m~/miniconda3/envs/tvm-cu116-py310/lib/python3.10/site-packages/tvm/auto_scheduler/task_scheduler.py:342\u001b[0m, in \u001b[0;36mTaskScheduler.tune\u001b[0;34m(self, tune_option, search_policy, search_policy_params, adaptive_training, per_task_early_stopping)\u001b[0m\n\u001b[1;32m    339\u001b[0m     \u001b[38;5;28mself\u001b[39m\u001b[38;5;241m.\u001b[39m_restore_status(\u001b[38;5;28mself\u001b[39m\u001b[38;5;241m.\u001b[39mload_log_file, \u001b[38;5;28mself\u001b[39m\u001b[38;5;241m.\u001b[39mnum_measures_per_round)\n\u001b[1;32m    341\u001b[0m \u001b[38;5;66;03m# make one search policy for one task\u001b[39;00m\n\u001b[0;32m--> 342\u001b[0m \u001b[38;5;28mself\u001b[39m\u001b[38;5;241m.\u001b[39msearch_policies \u001b[38;5;241m=\u001b[39m \u001b[43mmake_search_policies\u001b[49m\u001b[43m(\u001b[49m\n\u001b[1;32m    343\u001b[0m \u001b[43m    \u001b[49m\u001b[43msearch_policy\u001b[49m\u001b[43m,\u001b[49m\n\u001b[1;32m    344\u001b[0m \u001b[43m    \u001b[49m\u001b[43msearch_policy_params\u001b[49m\u001b[43m,\u001b[49m\n\u001b[1;32m    345\u001b[0m \u001b[43m    \u001b[49m\u001b[38;5;28;43mself\u001b[39;49m\u001b[38;5;241;43m.\u001b[39;49m\u001b[43mtasks\u001b[49m\u001b[43m,\u001b[49m\n\u001b[1;32m    346\u001b[0m \u001b[43m    \u001b[49m\u001b[38;5;28;43mself\u001b[39;49m\u001b[38;5;241;43m.\u001b[39;49m\u001b[43mnum_measures_per_round\u001b[49m\u001b[43m,\u001b[49m\n\u001b[1;32m    347\u001b[0m \u001b[43m    \u001b[49m\u001b[43mtune_option\u001b[49m\u001b[38;5;241;43m.\u001b[39;49m\u001b[43mverbose\u001b[49m\u001b[43m,\u001b[49m\n\u001b[1;32m    348\u001b[0m \u001b[43m    \u001b[49m\u001b[38;5;28;43mself\u001b[39;49m\u001b[38;5;241;43m.\u001b[39;49m\u001b[43mload_model_file\u001b[49m\u001b[43m,\u001b[49m\n\u001b[1;32m    349\u001b[0m \u001b[43m    \u001b[49m\u001b[38;5;28;43mself\u001b[39;49m\u001b[38;5;241;43m.\u001b[39;49m\u001b[43mload_log_file\u001b[49m\u001b[43m,\u001b[49m\n\u001b[1;32m    350\u001b[0m \u001b[43m    \u001b[49m\u001b[43madaptive_training\u001b[49m\u001b[43m,\u001b[49m\n\u001b[1;32m    351\u001b[0m \u001b[43m\u001b[49m\u001b[43m)\u001b[49m\n\u001b[1;32m    353\u001b[0m \u001b[38;5;66;03m# do a round robin first to warm up\u001b[39;00m\n\u001b[1;32m    354\u001b[0m \u001b[38;5;28;01mfor\u001b[39;00m idx \u001b[38;5;129;01min\u001b[39;00m \u001b[38;5;28mrange\u001b[39m(\u001b[38;5;28mlen\u001b[39m(\u001b[38;5;28mself\u001b[39m\u001b[38;5;241m.\u001b[39mtasks)):\n\u001b[1;32m    355\u001b[0m     \u001b[38;5;66;03m# skip warming up this task if it has been tuned before (restored from the log file)\u001b[39;00m\n",
            "File \u001b[0;32m~/miniconda3/envs/tvm-cu116-py310/lib/python3.10/site-packages/tvm/auto_scheduler/task_scheduler.py:99\u001b[0m, in \u001b[0;36mmake_search_policies\u001b[0;34m(search_policy, search_policy_params, tasks, num_measures_per_round, verbose, load_model_file, load_log_file, adaptive_training)\u001b[0m\n\u001b[1;32m     97\u001b[0m     \u001b[38;5;28;01melif\u001b[39;00m load_log_file:\n\u001b[1;32m     98\u001b[0m         logger\u001b[38;5;241m.\u001b[39minfo(\u001b[38;5;124m\"\u001b[39m\u001b[38;5;124mTaskScheduler: Reload measured states and train the model...\u001b[39m\u001b[38;5;124m\"\u001b[39m)\n\u001b[0;32m---> 99\u001b[0m         \u001b[43mcost_model\u001b[49m\u001b[38;5;241;43m.\u001b[39;49m\u001b[43mupdate_from_file\u001b[49m\u001b[43m(\u001b[49m\u001b[43mload_log_file\u001b[49m\u001b[43m)\u001b[49m\n\u001b[1;32m    100\u001b[0m \u001b[38;5;28;01melif\u001b[39;00m model_type \u001b[38;5;241m==\u001b[39m \u001b[38;5;124m\"\u001b[39m\u001b[38;5;124mrandom\u001b[39m\u001b[38;5;124m\"\u001b[39m:\n\u001b[1;32m    101\u001b[0m     cost_model \u001b[38;5;241m=\u001b[39m RandomModel()\n",
            "File \u001b[0;32m~/miniconda3/envs/tvm-cu116-py310/lib/python3.10/site-packages/tvm/auto_scheduler/cost_model/xgb_model.py:324\u001b[0m, in \u001b[0;36mXGBModel.update_from_file\u001b[0;34m(self, file_name, n_lines)\u001b[0m\n\u001b[1;32m    322\u001b[0m inputs, results \u001b[38;5;241m=\u001b[39m RecordReader(file_name)\u001b[38;5;241m.\u001b[39mread_lines(n_lines)\n\u001b[1;32m    323\u001b[0m logger\u001b[38;5;241m.\u001b[39minfo(\u001b[38;5;124m\"\u001b[39m\u001b[38;5;124mXGBModel: Loaded \u001b[39m\u001b[38;5;132;01m%s\u001b[39;00m\u001b[38;5;124m measurement records from \u001b[39m\u001b[38;5;132;01m%s\u001b[39;00m\u001b[38;5;124m\"\u001b[39m, \u001b[38;5;28mlen\u001b[39m(inputs), file_name)\n\u001b[0;32m--> 324\u001b[0m \u001b[38;5;28;43mself\u001b[39;49m\u001b[38;5;241;43m.\u001b[39;49m\u001b[43mupdate\u001b[49m\u001b[43m(\u001b[49m\u001b[43minputs\u001b[49m\u001b[43m,\u001b[49m\u001b[43m \u001b[49m\u001b[43mresults\u001b[49m\u001b[43m)\u001b[49m\n",
            "File \u001b[0;32m~/miniconda3/envs/tvm-cu116-py310/lib/python3.10/site-packages/tvm/auto_scheduler/cost_model/xgb_model.py:191\u001b[0m, in \u001b[0;36mXGBModel.update\u001b[0;34m(self, inputs, results)\u001b[0m\n\u001b[1;32m    189\u001b[0m \u001b[38;5;66;03m# extract feature\u001b[39;00m\n\u001b[1;32m    190\u001b[0m n_cached \u001b[38;5;241m=\u001b[39m \u001b[38;5;28mlen\u001b[39m(\u001b[38;5;28mself\u001b[39m\u001b[38;5;241m.\u001b[39minputs_feature_cache)\n\u001b[0;32m--> 191\u001b[0m features, normalized_throughputs, task_ids \u001b[38;5;241m=\u001b[39m \u001b[43mget_per_store_features_from_measure_pairs\u001b[49m\u001b[43m(\u001b[49m\n\u001b[1;32m    192\u001b[0m \u001b[43m    \u001b[49m\u001b[38;5;28;43mself\u001b[39;49m\u001b[38;5;241;43m.\u001b[39;49m\u001b[43minputs\u001b[49m\u001b[43m,\u001b[49m\u001b[43m \u001b[49m\u001b[38;5;28;43mself\u001b[39;49m\u001b[38;5;241;43m.\u001b[39;49m\u001b[43mresults\u001b[49m\u001b[43m,\u001b[49m\u001b[43m \u001b[49m\u001b[43mskip_first_n_feature_extraction\u001b[49m\u001b[38;5;241;43m=\u001b[39;49m\u001b[43mn_cached\u001b[49m\n\u001b[1;32m    193\u001b[0m \u001b[43m\u001b[49m\u001b[43m)\u001b[49m\n\u001b[1;32m    194\u001b[0m \u001b[38;5;28;01mif\u001b[39;00m n_cached \u001b[38;5;241m>\u001b[39m \u001b[38;5;241m0\u001b[39m:\n\u001b[1;32m    195\u001b[0m     features \u001b[38;5;241m=\u001b[39m \u001b[38;5;28mlist\u001b[39m(features)\n",
            "File \u001b[0;32m~/miniconda3/envs/tvm-cu116-py310/lib/python3.10/site-packages/tvm/auto_scheduler/feature.py:204\u001b[0m, in \u001b[0;36mget_per_store_features_from_measure_pairs\u001b[0;34m(inputs, results, skip_first_n_feature_extraction, max_n_bufs)\u001b[0m\n\u001b[1;32m    176\u001b[0m \u001b[38;5;28;01mdef\u001b[39;00m \u001b[38;5;21mget_per_store_features_from_measure_pairs\u001b[39m(\n\u001b[1;32m    177\u001b[0m     inputs: List[MeasureInput],\n\u001b[1;32m    178\u001b[0m     results: List[MeasureResult],\n\u001b[1;32m    179\u001b[0m     skip_first_n_feature_extraction: \u001b[38;5;28mint\u001b[39m \u001b[38;5;241m=\u001b[39m \u001b[38;5;241m0\u001b[39m,\n\u001b[1;32m    180\u001b[0m     max_n_bufs: Optional[\u001b[38;5;28mint\u001b[39m] \u001b[38;5;241m=\u001b[39m \u001b[38;5;28;01mNone\u001b[39;00m,\n\u001b[1;32m    181\u001b[0m ) \u001b[38;5;241m-\u001b[39m\u001b[38;5;241m>\u001b[39m Tuple[np\u001b[38;5;241m.\u001b[39mndarray, np\u001b[38;5;241m.\u001b[39mndarray, np\u001b[38;5;241m.\u001b[39mndarray]:\n\u001b[1;32m    182\u001b[0m \u001b[38;5;250m    \u001b[39m\u001b[38;5;124;03m\"\"\"Get per-store features from measurement input/result pairs\u001b[39;00m\n\u001b[1;32m    183\u001b[0m \n\u001b[1;32m    184\u001b[0m \u001b[38;5;124;03m    Parameters\u001b[39;00m\n\u001b[0;32m   (...)\u001b[0m\n\u001b[1;32m    202\u001b[0m \u001b[38;5;124;03m        Task ids\u001b[39;00m\n\u001b[1;32m    203\u001b[0m \u001b[38;5;124;03m    \"\"\"\u001b[39;00m\n\u001b[0;32m--> 204\u001b[0m     byte_arr \u001b[38;5;241m=\u001b[39m \u001b[43m_ffi_api\u001b[49m\u001b[38;5;241;43m.\u001b[39;49m\u001b[43mGetPerStoreFeaturesFromMeasurePairs\u001b[49m\u001b[43m(\u001b[49m\n\u001b[1;32m    205\u001b[0m \u001b[43m        \u001b[49m\u001b[43minputs\u001b[49m\u001b[43m,\u001b[49m\u001b[43m \u001b[49m\u001b[43mresults\u001b[49m\u001b[43m,\u001b[49m\u001b[43m \u001b[49m\u001b[43mskip_first_n_feature_extraction\u001b[49m\u001b[43m,\u001b[49m\u001b[43m \u001b[49m\u001b[43mmax_n_bufs\u001b[49m\u001b[43m \u001b[49m\u001b[38;5;129;43;01mor\u001b[39;49;00m\u001b[43m \u001b[49m\u001b[43mDEFAULT_MAX_N_BUFS\u001b[49m\n\u001b[1;32m    206\u001b[0m \u001b[43m    \u001b[49m\u001b[43m)\u001b[49m\n\u001b[1;32m    207\u001b[0m     \u001b[38;5;28;01mreturn\u001b[39;00m unpack_feature(byte_arr)\n",
            "File \u001b[0;32mtvm/_ffi/_cython/./packed_func.pxi:333\u001b[0m, in \u001b[0;36mtvm._ffi._cy3.core.PackedFuncBase.__call__\u001b[0;34m()\u001b[0m\n",
            "File \u001b[0;32mtvm/_ffi/_cython/./packed_func.pxi:221\u001b[0m, in \u001b[0;36mtvm._ffi._cy3.core.make_ret\u001b[0;34m()\u001b[0m\n",
            "File \u001b[0;32mtvm/_ffi/_cython/./packed_func.pxi:196\u001b[0m, in \u001b[0;36mtvm._ffi._cy3.core.make_ret_bytes\u001b[0;34m()\u001b[0m\n",
            "File \u001b[0;32mtvm/_ffi/_cython/./base.pxi:188\u001b[0m, in \u001b[0;36mtvm._ffi._cy3.core.ctypes_handle\u001b[0;34m()\u001b[0m\n",
            "File \u001b[0;32m~/miniconda3/envs/tvm-cu116-py310/lib/python3.10/ctypes/__init__.py:509\u001b[0m, in \u001b[0;36mcast\u001b[0;34m(obj, typ)\u001b[0m\n\u001b[1;32m    506\u001b[0m     \u001b[38;5;28;01mreturn\u001b[39;00m CFunctionType\n\u001b[1;32m    508\u001b[0m _cast \u001b[38;5;241m=\u001b[39m PYFUNCTYPE(py_object, c_void_p, py_object, py_object)(_cast_addr)\n\u001b[0;32m--> 509\u001b[0m \u001b[38;5;28;01mdef\u001b[39;00m \u001b[38;5;21mcast\u001b[39m(obj, typ):\n\u001b[1;32m    510\u001b[0m     \u001b[38;5;28;01mreturn\u001b[39;00m _cast(obj, obj, typ)\n\u001b[1;32m    512\u001b[0m _string_at \u001b[38;5;241m=\u001b[39m PYFUNCTYPE(py_object, c_void_p, c_int)(_string_at_addr)\n",
            "\u001b[0;31mKeyboardInterrupt\u001b[0m: "
          ]
        }
      ],
      "source": [
        "# package = tvmc.compile(model, target='cuda')\n",
        "log_file_fb = 'tuning_jsons/matmul_2048.json'\n",
        "\n",
        "#tvmc.tune(model, target='cuda', enable_autoscheduler=True, tuning_records=log_file_fb)\n",
        "\n",
        "\n",
        "tvmc.tune(model, target='cuda', enable_autoscheduler=True, prior_records=log_file_fb, tuning_records=log_file_fb)\n",
        "\n",
        "\n"
      ]
    },
    {
      "cell_type": "code",
      "execution_count": 7,
      "metadata": {},
      "outputs": [
        {
          "name": "stderr",
          "output_type": "stream",
          "text": [
            "One or more operators have not been tuned. Please tune your model for better performance. Use DEBUG logging level to see more details.\n"
          ]
        },
        {
          "ename": "FileNotFoundError",
          "evalue": "[Errno 2] No such file or directory: 'nvcc'",
          "output_type": "error",
          "traceback": [
            "\u001b[0;31m---------------------------------------------------------------------------\u001b[0m",
            "\u001b[0;31mFileNotFoundError\u001b[0m                         Traceback (most recent call last)",
            "Cell \u001b[0;32mIn[7], line 4\u001b[0m\n\u001b[1;32m      1\u001b[0m \u001b[38;5;66;03m# compilation after tuning see if shared memory usage is not over limit after tuning\u001b[39;00m\n\u001b[1;32m      2\u001b[0m package_path \u001b[38;5;241m=\u001b[39m \u001b[38;5;124m'\u001b[39m\u001b[38;5;124mcuda_models/matmul_bmm_2048_tuned.tar\u001b[39m\u001b[38;5;124m'\u001b[39m\n\u001b[0;32m----> 4\u001b[0m \u001b[43mtvmc\u001b[49m\u001b[38;5;241;43m.\u001b[39;49m\u001b[43mcompile\u001b[49m\u001b[43m(\u001b[49m\u001b[43mmodel\u001b[49m\u001b[43m,\u001b[49m\u001b[43m \u001b[49m\u001b[43mtarget\u001b[49m\u001b[38;5;241;43m=\u001b[39;49m\u001b[38;5;124;43m'\u001b[39;49m\u001b[38;5;124;43mcuda\u001b[39;49m\u001b[38;5;124;43m'\u001b[39;49m\u001b[43m,\u001b[49m\u001b[43m \u001b[49m\u001b[43mtuning_records\u001b[49m\u001b[38;5;241;43m=\u001b[39;49m\u001b[43mlog_file_fb\u001b[49m\u001b[43m,\u001b[49m\u001b[43m \u001b[49m\u001b[43mpackage_path\u001b[49m\u001b[38;5;241;43m=\u001b[39;49m\u001b[43mpackage_path\u001b[49m\u001b[43m)\u001b[49m\n\u001b[1;32m      6\u001b[0m new_package \u001b[38;5;241m=\u001b[39m tvmc\u001b[38;5;241m.\u001b[39mTVMCPackage(package_path\u001b[38;5;241m=\u001b[39mpackage_path)\n\u001b[1;32m      8\u001b[0m result \u001b[38;5;241m=\u001b[39m tvmc\u001b[38;5;241m.\u001b[39mrun(new_package, device\u001b[38;5;241m=\u001b[39m\u001b[38;5;124m'\u001b[39m\u001b[38;5;124mcuda\u001b[39m\u001b[38;5;124m'\u001b[39m)\n",
            "File \u001b[0;32m~/miniconda3/envs/tvm-cu116-py310/lib/python3.10/site-packages/tvm/driver/tvmc/compiler.py:401\u001b[0m, in \u001b[0;36mcompile_model\u001b[0;34m(tvmc_model, target, opt_level, executor, runtime, tuning_records, package_path, cross, cross_options, output_format, dump_code, dump_offloads, target_host, disabled_pass, pass_context_configs, additional_target_options, use_vm, mod_name, workspace_pools, print_pass_times, instruments, desired_layout, desired_layout_ops, mixed_precision, mixed_precision_ops, mixed_precision_calculation_type, mixed_precision_acc_type)\u001b[0m\n\u001b[1;32m    399\u001b[0m         config[\u001b[38;5;124m\"\u001b[39m\u001b[38;5;124mrelay.backend.use_auto_scheduler\u001b[39m\u001b[38;5;124m\"\u001b[39m] \u001b[38;5;241m=\u001b[39m \u001b[38;5;28;01mTrue\u001b[39;00m\n\u001b[1;32m    400\u001b[0m         logger\u001b[38;5;241m.\u001b[39mdebug(\u001b[38;5;124m\"\u001b[39m\u001b[38;5;124mbuilding relay graph with autoscheduler\u001b[39m\u001b[38;5;124m\"\u001b[39m)\n\u001b[0;32m--> 401\u001b[0m         graph_module \u001b[38;5;241m=\u001b[39m \u001b[43mbuild\u001b[49m\u001b[43m(\u001b[49m\n\u001b[1;32m    402\u001b[0m \u001b[43m            \u001b[49m\u001b[43mmod\u001b[49m\u001b[43m,\u001b[49m\n\u001b[1;32m    403\u001b[0m \u001b[43m            \u001b[49m\u001b[43mtvm_target\u001b[49m\u001b[38;5;241;43m=\u001b[39;49m\u001b[43mtvm_target\u001b[49m\u001b[43m,\u001b[49m\n\u001b[1;32m    404\u001b[0m \u001b[43m            \u001b[49m\u001b[43mexecutor\u001b[49m\u001b[38;5;241;43m=\u001b[39;49m\u001b[43mexecutor\u001b[49m\u001b[43m,\u001b[49m\n\u001b[1;32m    405\u001b[0m \u001b[43m            \u001b[49m\u001b[43mruntime\u001b[49m\u001b[38;5;241;43m=\u001b[39;49m\u001b[43mruntime\u001b[49m\u001b[43m,\u001b[49m\n\u001b[1;32m    406\u001b[0m \u001b[43m            \u001b[49m\u001b[43mparams\u001b[49m\u001b[38;5;241;43m=\u001b[39;49m\u001b[43mparams\u001b[49m\u001b[43m,\u001b[49m\n\u001b[1;32m    407\u001b[0m \u001b[43m            \u001b[49m\u001b[43muse_vm\u001b[49m\u001b[38;5;241;43m=\u001b[39;49m\u001b[43muse_vm\u001b[49m\u001b[43m,\u001b[49m\n\u001b[1;32m    408\u001b[0m \u001b[43m            \u001b[49m\u001b[43mmod_name\u001b[49m\u001b[38;5;241;43m=\u001b[39;49m\u001b[43mmod_name\u001b[49m\u001b[43m,\u001b[49m\n\u001b[1;32m    409\u001b[0m \u001b[43m            \u001b[49m\u001b[43mworkspace_pools\u001b[49m\u001b[38;5;241;43m=\u001b[39;49m\u001b[43mworkspace_pools\u001b[49m\u001b[43m,\u001b[49m\n\u001b[1;32m    410\u001b[0m \u001b[43m        \u001b[49m\u001b[43m)\u001b[49m\n\u001b[1;32m    411\u001b[0m \u001b[38;5;28;01melse\u001b[39;00m:\n\u001b[1;32m    412\u001b[0m     \u001b[38;5;28;01mwith\u001b[39;00m autotvm\u001b[38;5;241m.\u001b[39mapply_history_best(tuning_records):\n",
            "File \u001b[0;32m~/miniconda3/envs/tvm-cu116-py310/lib/python3.10/site-packages/tvm/driver/tvmc/compiler.py:504\u001b[0m, in \u001b[0;36mbuild\u001b[0;34m(mod, tvm_target, executor, runtime, params, use_vm, mod_name, workspace_pools)\u001b[0m\n\u001b[1;32m    502\u001b[0m     \u001b[38;5;28;01mreturn\u001b[39;00m relay\u001b[38;5;241m.\u001b[39mvm\u001b[38;5;241m.\u001b[39mcompile(mod, target\u001b[38;5;241m=\u001b[39mtvm_target, params\u001b[38;5;241m=\u001b[39mparams)\n\u001b[1;32m    503\u001b[0m logger\u001b[38;5;241m.\u001b[39mdebug(\u001b[38;5;124m\"\u001b[39m\u001b[38;5;124mbuilding with relay build\u001b[39m\u001b[38;5;124m\"\u001b[39m)\n\u001b[0;32m--> 504\u001b[0m \u001b[38;5;28;01mreturn\u001b[39;00m \u001b[43mrelay\u001b[49m\u001b[38;5;241;43m.\u001b[39;49m\u001b[43mbuild\u001b[49m\u001b[43m(\u001b[49m\n\u001b[1;32m    505\u001b[0m \u001b[43m    \u001b[49m\u001b[43mmod\u001b[49m\u001b[43m,\u001b[49m\n\u001b[1;32m    506\u001b[0m \u001b[43m    \u001b[49m\u001b[43mtarget\u001b[49m\u001b[38;5;241;43m=\u001b[39;49m\u001b[43mtvm_target\u001b[49m\u001b[43m,\u001b[49m\n\u001b[1;32m    507\u001b[0m \u001b[43m    \u001b[49m\u001b[43mexecutor\u001b[49m\u001b[38;5;241;43m=\u001b[39;49m\u001b[43mexecutor\u001b[49m\u001b[43m,\u001b[49m\n\u001b[1;32m    508\u001b[0m \u001b[43m    \u001b[49m\u001b[43mruntime\u001b[49m\u001b[38;5;241;43m=\u001b[39;49m\u001b[43mruntime\u001b[49m\u001b[43m,\u001b[49m\n\u001b[1;32m    509\u001b[0m \u001b[43m    \u001b[49m\u001b[43mparams\u001b[49m\u001b[38;5;241;43m=\u001b[39;49m\u001b[43mparams\u001b[49m\u001b[43m,\u001b[49m\n\u001b[1;32m    510\u001b[0m \u001b[43m    \u001b[49m\u001b[43mmod_name\u001b[49m\u001b[38;5;241;43m=\u001b[39;49m\u001b[43mmod_name\u001b[49m\u001b[43m,\u001b[49m\n\u001b[1;32m    511\u001b[0m \u001b[43m    \u001b[49m\u001b[43mworkspace_memory_pools\u001b[49m\u001b[38;5;241;43m=\u001b[39;49m\u001b[43mworkspace_pools\u001b[49m\u001b[43m,\u001b[49m\n\u001b[1;32m    512\u001b[0m \u001b[43m\u001b[49m\u001b[43m)\u001b[49m\n",
            "File \u001b[0;32m~/miniconda3/envs/tvm-cu116-py310/lib/python3.10/site-packages/tvm/relay/build_module.py:364\u001b[0m, in \u001b[0;36mbuild\u001b[0;34m(ir_mod, target, target_host, executor, runtime, workspace_memory_pools, constant_memory_pools, params, mod_name)\u001b[0m\n\u001b[1;32m    362\u001b[0m \u001b[38;5;28;01mwith\u001b[39;00m tophub_context:\n\u001b[1;32m    363\u001b[0m     bld_mod \u001b[38;5;241m=\u001b[39m BuildModule()\n\u001b[0;32m--> 364\u001b[0m     graph_json, runtime_mod, params \u001b[38;5;241m=\u001b[39m \u001b[43mbld_mod\u001b[49m\u001b[38;5;241;43m.\u001b[39;49m\u001b[43mbuild\u001b[49m\u001b[43m(\u001b[49m\n\u001b[1;32m    365\u001b[0m \u001b[43m        \u001b[49m\u001b[43mmod\u001b[49m\u001b[38;5;241;43m=\u001b[39;49m\u001b[43mir_mod\u001b[49m\u001b[43m,\u001b[49m\n\u001b[1;32m    366\u001b[0m \u001b[43m        \u001b[49m\u001b[43mtarget\u001b[49m\u001b[38;5;241;43m=\u001b[39;49m\u001b[43mraw_targets\u001b[49m\u001b[43m,\u001b[49m\n\u001b[1;32m    367\u001b[0m \u001b[43m        \u001b[49m\u001b[43mparams\u001b[49m\u001b[38;5;241;43m=\u001b[39;49m\u001b[43mparams\u001b[49m\u001b[43m,\u001b[49m\n\u001b[1;32m    368\u001b[0m \u001b[43m        \u001b[49m\u001b[43mexecutor\u001b[49m\u001b[38;5;241;43m=\u001b[39;49m\u001b[43mexecutor\u001b[49m\u001b[43m,\u001b[49m\n\u001b[1;32m    369\u001b[0m \u001b[43m        \u001b[49m\u001b[43mruntime\u001b[49m\u001b[38;5;241;43m=\u001b[39;49m\u001b[43mruntime\u001b[49m\u001b[43m,\u001b[49m\n\u001b[1;32m    370\u001b[0m \u001b[43m        \u001b[49m\u001b[43mworkspace_memory_pools\u001b[49m\u001b[38;5;241;43m=\u001b[39;49m\u001b[43mworkspace_memory_pools\u001b[49m\u001b[43m,\u001b[49m\n\u001b[1;32m    371\u001b[0m \u001b[43m        \u001b[49m\u001b[43mconstant_memory_pools\u001b[49m\u001b[38;5;241;43m=\u001b[39;49m\u001b[43mconstant_memory_pools\u001b[49m\u001b[43m,\u001b[49m\n\u001b[1;32m    372\u001b[0m \u001b[43m        \u001b[49m\u001b[43mmod_name\u001b[49m\u001b[38;5;241;43m=\u001b[39;49m\u001b[43mmod_name\u001b[49m\u001b[43m,\u001b[49m\n\u001b[1;32m    373\u001b[0m \u001b[43m    \u001b[49m\u001b[43m)\u001b[49m\n\u001b[1;32m    374\u001b[0m     func_metadata \u001b[38;5;241m=\u001b[39m bld_mod\u001b[38;5;241m.\u001b[39mget_function_metadata()\n\u001b[1;32m    375\u001b[0m     devices \u001b[38;5;241m=\u001b[39m bld_mod\u001b[38;5;241m.\u001b[39mget_devices()\n",
            "File \u001b[0;32m~/miniconda3/envs/tvm-cu116-py310/lib/python3.10/site-packages/tvm/relay/build_module.py:161\u001b[0m, in \u001b[0;36mBuildModule.build\u001b[0;34m(self, mod, target, target_host, executor, runtime, workspace_memory_pools, constant_memory_pools, params, mod_name)\u001b[0m\n\u001b[1;32m    155\u001b[0m autotvm\u001b[38;5;241m.\u001b[39mGLOBAL_SCOPE\u001b[38;5;241m.\u001b[39msilent \u001b[38;5;241m=\u001b[39m (\n\u001b[1;32m    156\u001b[0m     is_auto_scheduler_enabled() \u001b[38;5;129;01mor\u001b[39;00m is_meta_schedule_enabled() \u001b[38;5;129;01mor\u001b[39;00m old_autotvm_silent\n\u001b[1;32m    157\u001b[0m )\n\u001b[1;32m    159\u001b[0m mod_name \u001b[38;5;241m=\u001b[39m mangle_module_name(mod_name)\n\u001b[0;32m--> 161\u001b[0m \u001b[38;5;28;43mself\u001b[39;49m\u001b[38;5;241;43m.\u001b[39;49m\u001b[43m_build\u001b[49m\u001b[43m(\u001b[49m\n\u001b[1;32m    162\u001b[0m \u001b[43m    \u001b[49m\u001b[43mmod\u001b[49m\u001b[43m,\u001b[49m\n\u001b[1;32m    163\u001b[0m \u001b[43m    \u001b[49m\u001b[43mtarget\u001b[49m\u001b[43m,\u001b[49m\n\u001b[1;32m    164\u001b[0m \u001b[43m    \u001b[49m\u001b[43mtarget_host\u001b[49m\u001b[43m,\u001b[49m\n\u001b[1;32m    165\u001b[0m \u001b[43m    \u001b[49m\u001b[43mexecutor\u001b[49m\u001b[43m,\u001b[49m\n\u001b[1;32m    166\u001b[0m \u001b[43m    \u001b[49m\u001b[43mruntime\u001b[49m\u001b[43m,\u001b[49m\n\u001b[1;32m    167\u001b[0m \u001b[43m    \u001b[49m\u001b[43mworkspace_memory_pools\u001b[49m\u001b[43m,\u001b[49m\n\u001b[1;32m    168\u001b[0m \u001b[43m    \u001b[49m\u001b[43mconstant_memory_pools\u001b[49m\u001b[43m,\u001b[49m\n\u001b[1;32m    169\u001b[0m \u001b[43m    \u001b[49m\u001b[43mmod_name\u001b[49m\u001b[43m,\u001b[49m\n\u001b[1;32m    170\u001b[0m \u001b[43m\u001b[49m\u001b[43m)\u001b[49m\n\u001b[1;32m    171\u001b[0m autotvm\u001b[38;5;241m.\u001b[39mGLOBAL_SCOPE\u001b[38;5;241m.\u001b[39msilent \u001b[38;5;241m=\u001b[39m old_autotvm_silent\n\u001b[1;32m    173\u001b[0m \u001b[38;5;66;03m# Get artifacts\u001b[39;00m\n",
            "File \u001b[0;32mtvm/_ffi/_cython/./packed_func.pxi:332\u001b[0m, in \u001b[0;36mtvm._ffi._cy3.core.PackedFuncBase.__call__\u001b[0;34m()\u001b[0m\n",
            "File \u001b[0;32mtvm/_ffi/_cython/./packed_func.pxi:277\u001b[0m, in \u001b[0;36mtvm._ffi._cy3.core.FuncCall\u001b[0;34m()\u001b[0m\n",
            "File \u001b[0;32mtvm/_ffi/_cython/./base.pxi:182\u001b[0m, in \u001b[0;36mtvm._ffi._cy3.core.CHECK_CALL\u001b[0;34m()\u001b[0m\n",
            "File \u001b[0;32m~/miniconda3/envs/tvm-cu116-py310/lib/python3.10/site-packages/tvm/_ffi/base.py:481\u001b[0m, in \u001b[0;36mraise_last_ffi_error\u001b[0;34m()\u001b[0m\n\u001b[1;32m    475\u001b[0m \u001b[38;5;66;03m# The exception PyObject may contain a large amount of state,\u001b[39;00m\n\u001b[1;32m    476\u001b[0m \u001b[38;5;66;03m# including all stack frames that may be inspected in a later\u001b[39;00m\n\u001b[1;32m    477\u001b[0m \u001b[38;5;66;03m# PDB post-mortem.  Therefore, we must make sure to remove the\u001b[39;00m\n\u001b[1;32m    478\u001b[0m \u001b[38;5;66;03m# underlying PyObject* from the C++ side after we retrieve it.\u001b[39;00m\n\u001b[1;32m    479\u001b[0m _LIB\u001b[38;5;241m.\u001b[39mTVMDropLastPythonError()\n\u001b[0;32m--> 481\u001b[0m \u001b[38;5;28;01mraise\u001b[39;00m py_err\n",
            "File \u001b[0;32mtvm/_ffi/_cython/./packed_func.pxi:56\u001b[0m, in \u001b[0;36mtvm._ffi._cy3.core.tvm_callback\u001b[0;34m()\u001b[0m\n",
            "File \u001b[0;32m~/miniconda3/envs/tvm-cu116-py310/lib/python3.10/site-packages/tvm/contrib/nvcc.py:204\u001b[0m, in \u001b[0;36mtvm_callback_cuda_compile\u001b[0;34m(code, target)\u001b[0m\n\u001b[1;32m    201\u001b[0m \u001b[38;5;129m@tvm\u001b[39m\u001b[38;5;241m.\u001b[39m_ffi\u001b[38;5;241m.\u001b[39mregister_func\n\u001b[1;32m    202\u001b[0m \u001b[38;5;28;01mdef\u001b[39;00m \u001b[38;5;21mtvm_callback_cuda_compile\u001b[39m(code, target):  \u001b[38;5;66;03m# pylint: disable=unused-argument\u001b[39;00m\n\u001b[1;32m    203\u001b[0m \u001b[38;5;250m    \u001b[39m\u001b[38;5;124;03m\"\"\"use nvcc to generate fatbin code for better optimization\"\"\"\u001b[39;00m\n\u001b[0;32m--> 204\u001b[0m     ptx \u001b[38;5;241m=\u001b[39m \u001b[43mcompile_cuda\u001b[49m\u001b[43m(\u001b[49m\u001b[43mcode\u001b[49m\u001b[43m,\u001b[49m\u001b[43m \u001b[49m\u001b[43mtarget_format\u001b[49m\u001b[38;5;241;43m=\u001b[39;49m\u001b[38;5;124;43m\"\u001b[39;49m\u001b[38;5;124;43mfatbin\u001b[39;49m\u001b[38;5;124;43m\"\u001b[39;49m\u001b[43m)\u001b[49m\n\u001b[1;32m    205\u001b[0m     \u001b[38;5;28;01mreturn\u001b[39;00m ptx\n",
            "File \u001b[0;32m~/miniconda3/envs/tvm-cu116-py310/lib/python3.10/site-packages/tvm/contrib/nvcc.py:120\u001b[0m, in \u001b[0;36mcompile_cuda\u001b[0;34m(code, target_format, arch, options, path_target)\u001b[0m\n\u001b[1;32m    110\u001b[0m cmd \u001b[38;5;241m+\u001b[39m\u001b[38;5;241m=\u001b[39m [temp_code]\n\u001b[1;32m    112\u001b[0m \u001b[38;5;66;03m# NOTE: ccbin option can be used to tell nvcc where to find the c++ compiler\u001b[39;00m\n\u001b[1;32m    113\u001b[0m \u001b[38;5;66;03m# just in case it is not in the path. On Windows it is not in the path by default.\u001b[39;00m\n\u001b[1;32m    114\u001b[0m \u001b[38;5;66;03m# However, we cannot use TVM_CXX_COMPILER_PATH because the runtime env.\u001b[39;00m\n\u001b[0;32m   (...)\u001b[0m\n\u001b[1;32m    117\u001b[0m \u001b[38;5;66;03m# if cxx_compiler_path != \"\":\u001b[39;00m\n\u001b[1;32m    118\u001b[0m \u001b[38;5;66;03m#    cmd += [\"-ccbin\", cxx_compiler_path]\u001b[39;00m\n\u001b[0;32m--> 120\u001b[0m proc \u001b[38;5;241m=\u001b[39m \u001b[43msubprocess\u001b[49m\u001b[38;5;241;43m.\u001b[39;49m\u001b[43mPopen\u001b[49m\u001b[43m(\u001b[49m\u001b[43mcmd\u001b[49m\u001b[43m,\u001b[49m\u001b[43m \u001b[49m\u001b[43mstdout\u001b[49m\u001b[38;5;241;43m=\u001b[39;49m\u001b[43msubprocess\u001b[49m\u001b[38;5;241;43m.\u001b[39;49m\u001b[43mPIPE\u001b[49m\u001b[43m,\u001b[49m\u001b[43m \u001b[49m\u001b[43mstderr\u001b[49m\u001b[38;5;241;43m=\u001b[39;49m\u001b[43msubprocess\u001b[49m\u001b[38;5;241;43m.\u001b[39;49m\u001b[43mSTDOUT\u001b[49m\u001b[43m)\u001b[49m\n\u001b[1;32m    122\u001b[0m (out, _) \u001b[38;5;241m=\u001b[39m proc\u001b[38;5;241m.\u001b[39mcommunicate()\n\u001b[1;32m    124\u001b[0m \u001b[38;5;28;01mif\u001b[39;00m proc\u001b[38;5;241m.\u001b[39mreturncode \u001b[38;5;241m!=\u001b[39m \u001b[38;5;241m0\u001b[39m:\n",
            "File \u001b[0;32m~/miniconda3/envs/tvm-cu116-py310/lib/python3.10/subprocess.py:971\u001b[0m, in \u001b[0;36mPopen.__init__\u001b[0;34m(self, args, bufsize, executable, stdin, stdout, stderr, preexec_fn, close_fds, shell, cwd, env, universal_newlines, startupinfo, creationflags, restore_signals, start_new_session, pass_fds, user, group, extra_groups, encoding, errors, text, umask, pipesize)\u001b[0m\n\u001b[1;32m    967\u001b[0m         \u001b[38;5;28;01mif\u001b[39;00m \u001b[38;5;28mself\u001b[39m\u001b[38;5;241m.\u001b[39mtext_mode:\n\u001b[1;32m    968\u001b[0m             \u001b[38;5;28mself\u001b[39m\u001b[38;5;241m.\u001b[39mstderr \u001b[38;5;241m=\u001b[39m io\u001b[38;5;241m.\u001b[39mTextIOWrapper(\u001b[38;5;28mself\u001b[39m\u001b[38;5;241m.\u001b[39mstderr,\n\u001b[1;32m    969\u001b[0m                     encoding\u001b[38;5;241m=\u001b[39mencoding, errors\u001b[38;5;241m=\u001b[39merrors)\n\u001b[0;32m--> 971\u001b[0m     \u001b[38;5;28;43mself\u001b[39;49m\u001b[38;5;241;43m.\u001b[39;49m\u001b[43m_execute_child\u001b[49m\u001b[43m(\u001b[49m\u001b[43margs\u001b[49m\u001b[43m,\u001b[49m\u001b[43m \u001b[49m\u001b[43mexecutable\u001b[49m\u001b[43m,\u001b[49m\u001b[43m \u001b[49m\u001b[43mpreexec_fn\u001b[49m\u001b[43m,\u001b[49m\u001b[43m \u001b[49m\u001b[43mclose_fds\u001b[49m\u001b[43m,\u001b[49m\n\u001b[1;32m    972\u001b[0m \u001b[43m                        \u001b[49m\u001b[43mpass_fds\u001b[49m\u001b[43m,\u001b[49m\u001b[43m \u001b[49m\u001b[43mcwd\u001b[49m\u001b[43m,\u001b[49m\u001b[43m \u001b[49m\u001b[43menv\u001b[49m\u001b[43m,\u001b[49m\n\u001b[1;32m    973\u001b[0m \u001b[43m                        \u001b[49m\u001b[43mstartupinfo\u001b[49m\u001b[43m,\u001b[49m\u001b[43m \u001b[49m\u001b[43mcreationflags\u001b[49m\u001b[43m,\u001b[49m\u001b[43m \u001b[49m\u001b[43mshell\u001b[49m\u001b[43m,\u001b[49m\n\u001b[1;32m    974\u001b[0m \u001b[43m                        \u001b[49m\u001b[43mp2cread\u001b[49m\u001b[43m,\u001b[49m\u001b[43m \u001b[49m\u001b[43mp2cwrite\u001b[49m\u001b[43m,\u001b[49m\n\u001b[1;32m    975\u001b[0m \u001b[43m                        \u001b[49m\u001b[43mc2pread\u001b[49m\u001b[43m,\u001b[49m\u001b[43m \u001b[49m\u001b[43mc2pwrite\u001b[49m\u001b[43m,\u001b[49m\n\u001b[1;32m    976\u001b[0m \u001b[43m                        \u001b[49m\u001b[43merrread\u001b[49m\u001b[43m,\u001b[49m\u001b[43m \u001b[49m\u001b[43merrwrite\u001b[49m\u001b[43m,\u001b[49m\n\u001b[1;32m    977\u001b[0m \u001b[43m                        \u001b[49m\u001b[43mrestore_signals\u001b[49m\u001b[43m,\u001b[49m\n\u001b[1;32m    978\u001b[0m \u001b[43m                        \u001b[49m\u001b[43mgid\u001b[49m\u001b[43m,\u001b[49m\u001b[43m \u001b[49m\u001b[43mgids\u001b[49m\u001b[43m,\u001b[49m\u001b[43m \u001b[49m\u001b[43muid\u001b[49m\u001b[43m,\u001b[49m\u001b[43m \u001b[49m\u001b[43mumask\u001b[49m\u001b[43m,\u001b[49m\n\u001b[1;32m    979\u001b[0m \u001b[43m                        \u001b[49m\u001b[43mstart_new_session\u001b[49m\u001b[43m)\u001b[49m\n\u001b[1;32m    980\u001b[0m \u001b[38;5;28;01mexcept\u001b[39;00m:\n\u001b[1;32m    981\u001b[0m     \u001b[38;5;66;03m# Cleanup if the child failed starting.\u001b[39;00m\n\u001b[1;32m    982\u001b[0m     \u001b[38;5;28;01mfor\u001b[39;00m f \u001b[38;5;129;01min\u001b[39;00m \u001b[38;5;28mfilter\u001b[39m(\u001b[38;5;28;01mNone\u001b[39;00m, (\u001b[38;5;28mself\u001b[39m\u001b[38;5;241m.\u001b[39mstdin, \u001b[38;5;28mself\u001b[39m\u001b[38;5;241m.\u001b[39mstdout, \u001b[38;5;28mself\u001b[39m\u001b[38;5;241m.\u001b[39mstderr)):\n",
            "File \u001b[0;32m~/miniconda3/envs/tvm-cu116-py310/lib/python3.10/subprocess.py:1863\u001b[0m, in \u001b[0;36mPopen._execute_child\u001b[0;34m(self, args, executable, preexec_fn, close_fds, pass_fds, cwd, env, startupinfo, creationflags, shell, p2cread, p2cwrite, c2pread, c2pwrite, errread, errwrite, restore_signals, gid, gids, uid, umask, start_new_session)\u001b[0m\n\u001b[1;32m   1861\u001b[0m     \u001b[38;5;28;01mif\u001b[39;00m errno_num \u001b[38;5;241m!=\u001b[39m \u001b[38;5;241m0\u001b[39m:\n\u001b[1;32m   1862\u001b[0m         err_msg \u001b[38;5;241m=\u001b[39m os\u001b[38;5;241m.\u001b[39mstrerror(errno_num)\n\u001b[0;32m-> 1863\u001b[0m     \u001b[38;5;28;01mraise\u001b[39;00m child_exception_type(errno_num, err_msg, err_filename)\n\u001b[1;32m   1864\u001b[0m \u001b[38;5;28;01mraise\u001b[39;00m child_exception_type(err_msg)\n",
            "\u001b[0;31mFileNotFoundError\u001b[0m: [Errno 2] No such file or directory: 'nvcc'"
          ]
        }
      ],
      "source": [
        "# compilation after tuning see if shared memory usage is not over limit after tuning\n",
        "package_path = 'cuda_models/matmul_bmm_2048_tuned.tar'\n",
        "\n",
        "tvmc.compile(model, target='cuda', tuning_records=log_file_fb, package_path=package_path)\n",
        "\n",
        "new_package = tvmc.TVMCPackage(package_path=package_path)\n",
        "\n",
        "result = tvmc.run(new_package, device='cuda')"
      ]
    },
    {
      "cell_type": "code",
      "execution_count": 6,
      "metadata": {},
      "outputs": [
        {
          "name": "stdout",
          "output_type": "stream",
          "text": [
            "[]\n",
            "Output Names:\n",
            " ['output_0']\n"
          ]
        }
      ],
      "source": [
        "print(result)"
      ]
    },
    {
      "cell_type": "markdown",
      "metadata": {},
      "source": [
        "### adjusting tiling and IO schedule\n",
        "\n",
        "```python\n",
        "import tvm\n",
        "from tvm import autotvm\n",
        "from tvm import relay\n",
        "from tvm.autotvm.tuner import XGBTuner\n",
        "\n",
        "# Load your model here\n",
        "# model = ...\n",
        "\n",
        "# Define the target\n",
        "target = tvm.target.Target('cuda')\n",
        "\n",
        "# Extract tasks from the model\n",
        "tasks = autotvm.task.extract_from_program(model[\"main\"], target=target, params=model[\"params\"])\n",
        "\n",
        "# Create a tuner\n",
        "tuner = XGBTuner(tasks)\n",
        "\n",
        "# Define tuning options\n",
        "tuning_option = {\n",
        "    'log_filename': log_file_fb,\n",
        "    'tuner': 'xgb',\n",
        "    'n_trial': 1000,\n",
        "    'early_stopping': 600,\n",
        "    'measure_option': autotvm.measure_option(\n",
        "        builder=autotvm.LocalBuilder(timeout=10),\n",
        "        runner=autotvm.LocalRunner(number=20, repeat=3, timeout=4, min_repeat_ms=150),\n",
        "    ),\n",
        "}\n",
        "\n",
        "# Tune the model\n",
        "for i, tsk in enumerate(tasks):\n",
        "    print(f\"Tuning task {i+1}/{len(tasks)}: {tsk.name}\")\n",
        "    tuner.tune(tsk, **tuning_option)\n",
        "\n",
        "# Compile the model with the tuned schedule\n",
        "with autotvm.apply_history_best(log_file_fb):\n",
        "    graph, lib, params = relay.build(model, target=target)\n",
        "```"
      ]
    },
    {
      "cell_type": "markdown",
      "metadata": {},
      "source": [
        "## Step 3: Run\n",
        "\n",
        "The compiled package can now be run on the hardware target. The device\n",
        "input options are: CPU, Cuda, CL, Metal, and Vulkan.\n",
        "\n",
        "```python\n",
        "result = tvmc.run(package, device=\"cpu\") #Step 3: Run\n",
        "```\n",
        "And you can print the results:\n",
        "``print(result)``\n",
        "\n",
        "\n"
      ]
    },
    {
      "cell_type": "code",
      "execution_count": 8,
      "metadata": {},
      "outputs": [
        {
          "ename": "NameError",
          "evalue": "name 'new_package' is not defined",
          "output_type": "error",
          "traceback": [
            "\u001b[0;31m---------------------------------------------------------------------------\u001b[0m",
            "\u001b[0;31mNameError\u001b[0m                                 Traceback (most recent call last)",
            "Cell \u001b[0;32mIn[8], line 1\u001b[0m\n\u001b[0;32m----> 1\u001b[0m result \u001b[38;5;241m=\u001b[39m tvmc\u001b[38;5;241m.\u001b[39mrun(\u001b[43mnew_package\u001b[49m, device\u001b[38;5;241m=\u001b[39m\u001b[38;5;124m'\u001b[39m\u001b[38;5;124mcuda\u001b[39m\u001b[38;5;124m'\u001b[39m)\n",
            "\u001b[0;31mNameError\u001b[0m: name 'new_package' is not defined"
          ]
        }
      ],
      "source": [
        "result = tvmc.run(new_package, device='cuda')"
      ]
    },
    {
      "cell_type": "code",
      "execution_count": 8,
      "metadata": {},
      "outputs": [
        {
          "name": "stdout",
          "output_type": "stream",
          "text": [
            "result: []\n",
            "Output Names:\n",
            " ['output_0']\n"
          ]
        }
      ],
      "source": [
        "print(f'result: {result}')"
      ]
    },
    {
      "cell_type": "markdown",
      "metadata": {},
      "source": [
        "## Step 1.5: Tune [Optional & Recommended]\n",
        "\n",
        "Run speed can further be improved by tuning. This optional step uses\n",
        "machine learning to look at each operation within a model (a function) and\n",
        "tries to find a faster way to run it. We do this through a cost model, and\n",
        "benchmarking possible schedules.\n",
        "\n",
        "The target is the same as compile.\n",
        "\n",
        "```python\n",
        "tvmc.tune(model, target=\"llvm\") #Step 1.5: Optional Tune\n",
        "```\n",
        "The terminal output should look like:\n",
        "\n",
        "```python\n",
        "[Task  1/13]  Current/Best:   82.00/ 106.29 GFLOPS | Progress: (48/769) | 18.56 s\n",
        "[Task  1/13]  Current/Best:   54.47/ 113.50 GFLOPS | Progress: (240/769) | 85.36 s\n",
        ".....\n",
        "```\n",
        "There may be UserWarnings that can be ignored.\n",
        "This should make the end result faster, but it can take hours to tune.\n",
        "\n",
        "See the section 'Saving the Tuning Results' below. Be sure to pass the tuning\n",
        "results into compile if you want the results to apply.\n",
        "\n",
        "```python\n",
        "#tvmc.compile(model, target=\"llvm\", tuning_records = \"records.log\") #Step 2: Compile\n",
        "```\n"
      ]
    },
    {
      "cell_type": "code",
      "execution_count": null,
      "metadata": {},
      "outputs": [],
      "source": [
        "#! pip install xgboost"
      ]
    },
    {
      "cell_type": "code",
      "execution_count": null,
      "metadata": {},
      "outputs": [],
      "source": [
        "#tvmc.tune(model, target='llvm')\n",
        "\n",
        "log_file = 'cuda_tuning.json'\n",
        "\n",
        "#tvmc.tune(model, target='cuda', enable_autoscheduler=True, tuning_records=log_file)\n",
        "\n",
        "# tune again\n",
        "tvmc.tune(model, target='cuda', enable_autoscheduler=True, prior_records=log_file, tuning_records=log_file)"
      ]
    },
    {
      "cell_type": "code",
      "execution_count": null,
      "metadata": {},
      "outputs": [],
      "source": [
        "# tune again if possible some error about "
      ]
    },
    {
      "cell_type": "code",
      "execution_count": null,
      "metadata": {},
      "outputs": [],
      "source": [
        "# recmpile with the tuned parameters\n",
        "#tvmc.compile(model, target='llvm', tuning_records='records.log')\n",
        "tvmc.compile(model, target='cuda', tuning_records=log_file, package_path=\"cuda_models/resnet50-v2-7-tuned.tar\")\n",
        "\n",
        "new_package = tvmc.TVMCPackage(package_path='cuda_models/resnet50-v2-7-tuned.tar')\n",
        "\n",
        "result = tvmc.run(new_package, device='cuda')\n",
        "\n",
        "\n",
        "\n"
      ]
    },
    {
      "cell_type": "code",
      "execution_count": 10,
      "metadata": {},
      "outputs": [],
      "source": [
        "# save model as json\n",
        "model.save('tuned_models/matmul_bmm_2048.json')"
      ]
    },
    {
      "cell_type": "markdown",
      "metadata": {},
      "source": [
        "## Save and then start the process in the terminal:\n",
        "\n",
        "```python\n",
        "python my_tvmc_script.py\n",
        "```\n",
        "Note: Your fans may become very active\n",
        "\n",
        "\n"
      ]
    },
    {
      "cell_type": "markdown",
      "metadata": {},
      "source": [
        "## Example results:\n",
        "\n",
        "```python\n",
        "Time elapsed for training: 18.99 s\n",
        "Execution time summary:\n",
        "mean (ms)   max (ms)   min (ms)   std (ms)\n",
        "  25.24      26.12      24.89       0.38\n",
        "\n",
        "\n",
        "Output Names:\n",
        "['output_0']\n",
        "```\n"
      ]
    },
    {
      "cell_type": "markdown",
      "metadata": {},
      "source": [
        "## Additional TVMC Functionalities\n",
        "\n",
        "\n"
      ]
    },
    {
      "cell_type": "markdown",
      "metadata": {},
      "source": [
        "## Saving the model\n",
        "\n",
        "To make things faster for later, after loading the model (Step 1) save the Relay version.\n",
        "The model will then appear where you saved it for later in the coverted syntax.\n",
        "\n",
        "```python\n",
        "model = tvmc.load('my_model.onnx') #Step 1: Load\n",
        "model.save(desired_model_path)\n",
        "```\n"
      ]
    },
    {
      "cell_type": "markdown",
      "metadata": {},
      "source": [
        "## Saving the package\n",
        "\n",
        "After the model has been compiled (Step 2) the package also is also saveable.\n",
        "\n",
        "```python\n",
        "tvmc.compile(model, target=\"llvm\", package_path=\"whatever\") #Step 2: Compile\n",
        "\n",
        "new_package = tvmc.TVMCPackage(package_path=\"whatever\")\n",
        "result = tvmc.run(new_package, device=\"cpu\") #Step 3: Run\n",
        "```\n"
      ]
    },
    {
      "cell_type": "markdown",
      "metadata": {},
      "source": [
        "## Using Autoscheduler\n",
        "\n",
        "Use the next generation of tvm to enable potentially faster run speed results.\n",
        "The search space of the schedules is automatically generated unlike\n",
        "previously where they needed to be hand written. (Learn more:\n",
        "[1](https://tvm.apache.org/2021/03/03/intro-auto-scheduler),\n",
        "[2](https://arxiv.org/abs/2006.06762))\n",
        "\n",
        "```python\n",
        "tvmc.tune(model, target=\"llvm\", enable_autoscheduler = True)\n",
        "```\n"
      ]
    },
    {
      "cell_type": "markdown",
      "metadata": {},
      "source": [
        "## Saving the tuning results\n",
        "\n",
        "The tuning results can be saved in a file for later reuse.\n",
        "\n",
        "Method 1:\n",
        "```python\n",
        "log_file = \"hello.json\"\n",
        "\n",
        "# Run tuning\n",
        "tvmc.tune(model, target=\"llvm\", tuning_records=log_file)\n",
        "\n",
        "...\n",
        "\n",
        "# Later run tuning and reuse tuning results\n",
        "tvmc.tune(model, target=\"llvm\", prior_records=log_file)\n",
        "```\n",
        "Method 2:\n",
        "```python\n",
        "# Run tuning\n",
        "tuning_records = tvmc.tune(model, target=\"llvm\")\n",
        "\n",
        "...\n",
        "\n",
        "# Later run tuning and reuse tuning results\n",
        "tvmc.tune(model, target=\"llvm\", prior_records=tuning_records)\n",
        "```\n"
      ]
    },
    {
      "cell_type": "markdown",
      "metadata": {},
      "source": [
        "## Tuning a more complex model:\n",
        "\n",
        "If you notice T's printing that look like ``.........T.T..T..T..T.T.T.T.T.T.``\n",
        "increase the searching time frame:\n",
        "\n",
        "```python\n",
        "tvmc.tune(model,trials=10000,timeout=10,)\n",
        "```\n"
      ]
    },
    {
      "cell_type": "markdown",
      "metadata": {},
      "source": [
        "## Compiling a model for a remote device:\n",
        "\n",
        "A remote procedural call (RPC) is useful when you would like to compile for hardware\n",
        "that is not on your local machine. The tvmc methods support this.\n",
        "To set up the RPC server take a look at the 'Set up RPC Server on Device'\n",
        "section in this [document](https://tvm.apache.org/docs/tutorials/get_started/cross_compilation_and_rpc.html).\n",
        "\n",
        "Within the TVMC Script include the following and adjust accordingly:\n",
        "\n",
        "```python\n",
        "tvmc.tune(\n",
        "     model,\n",
        "     target=target, # Compilation target as string // Device to compile for\n",
        "     target_host=target_host, # Host processor\n",
        "     hostname=host_ip_address, # The IP address of an RPC tracker, used when benchmarking remotely.\n",
        "     port=port_number, # The port of the RPC tracker to connect to. Defaults to 9090.\n",
        "     rpc_key=your_key, # The RPC tracker key of the target device. Required when rpc_tracker is provided\n",
        ")\n",
        "```\n"
      ]
    }
  ],
  "metadata": {
    "kernelspec": {
      "display_name": "Python 3 (ipykernel)",
      "language": "python",
      "name": "python3"
    },
    "language_info": {
      "codemirror_mode": {
        "name": "ipython",
        "version": 3
      },
      "file_extension": ".py",
      "mimetype": "text/x-python",
      "name": "python",
      "nbconvert_exporter": "python",
      "pygments_lexer": "ipython3",
      "version": "3.10.14"
    }
  },
  "nbformat": 4,
  "nbformat_minor": 0
}
