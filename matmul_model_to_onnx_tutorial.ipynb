{
  "cells": [
    {
      "cell_type": "markdown",
      "metadata": {
        "id": "view-in-github",
        "colab_type": "text"
      },
      "source": [
        "<a href=\"https://colab.research.google.com/github/nyck33/tvm-learn/blob/master/matmul_model_to_onnx_tutorial.ipynb\" target=\"_parent\"><img src=\"https://colab.research.google.com/assets/colab-badge.svg\" alt=\"Open In Colab\"/></a>"
      ]
    },
    {
      "cell_type": "code",
      "execution_count": 1,
      "metadata": {
        "id": "ctFl8exJth2C"
      },
      "outputs": [],
      "source": [
        "# For tips on running notebooks in Google Colab, see\n",
        "# https://pytorch.org/tutorials/beginner/colab\n",
        "%matplotlib inline"
      ]
    },
    {
      "cell_type": "code",
      "source": [
        "! cp /content/matmul_bmm_8192.onnx /content/drive/MyDrive/Cuda"
      ],
      "metadata": {
        "id": "jGrVJnwTVETW"
      },
      "execution_count": 10,
      "outputs": []
    },
    {
      "cell_type": "code",
      "source": [
        "from google.colab import drive\n",
        "drive.mount('/content/drive')"
      ],
      "metadata": {
        "colab": {
          "base_uri": "https://localhost:8080/"
        },
        "id": "0G6pvSXCVFM0",
        "outputId": "e77198ed-1e87-458d-ba45-e8d477f8b880"
      },
      "execution_count": 2,
      "outputs": [
        {
          "output_type": "stream",
          "name": "stdout",
          "text": [
            "Mounted at /content/drive\n"
          ]
        }
      ]
    },
    {
      "cell_type": "markdown",
      "metadata": {
        "id": "oGCVPIzTth2E"
      },
      "source": [
        "[Introduction to ONNX](intro_onnx.html) \\|\\| **Exporting a PyTorch model\n",
        "to ONNX** \\|\\| [Extending the ONNX\n",
        "Registry](onnx_registry_tutorial.html)\n",
        "\n",
        "Export a PyTorch model to ONNX\n",
        "==============================\n",
        "\n",
        "**Author**: [Thiago Crepaldi](https://github.com/thiagocrepaldi)\n",
        "\n",
        "<div style=\"background-color: #54c7ec; color: #fff; font-weight: 700; padding-left: 10px; padding-top: 5px; padding-bottom: 5px\"><strong>NOTE:</strong></div>\n",
        "<div style=\"background-color: #f3f4f7; padding-left: 10px; padding-top: 10px; padding-bottom: 10px; padding-right: 10px\">\n",
        "<p>As of PyTorch 2.1, there are two versions of ONNX Exporter.</p>\n",
        "</div>\n"
      ]
    },
    {
      "cell_type": "markdown",
      "metadata": {
        "id": "e_jgJ8q0th2G"
      },
      "source": [
        "In the [60 Minute\n",
        "Blitz](https://pytorch.org/tutorials/beginner/deep_learning_60min_blitz.html),\n",
        "we had the opportunity to learn about PyTorch at a high level and train\n",
        "a small neural network to classify images. In this tutorial, we are\n",
        "going to expand this to describe how to convert a model defined in\n",
        "PyTorch into the ONNX format using TorchDynamo and the\n",
        "`torch.onnx.dynamo_export` ONNX exporter.\n",
        "\n",
        "While PyTorch is great for iterating on the development of models, the\n",
        "model can be deployed to production using different formats, including\n",
        "[ONNX](https://onnx.ai/) (Open Neural Network Exchange)!\n",
        "\n",
        "ONNX is a flexible open standard format for representing machine\n",
        "learning models which standardized representations of machine learning\n",
        "allow them to be executed across a gamut of hardware platforms and\n",
        "runtime environments from large-scale cloud-based supercomputers to\n",
        "resource-constrained edge devices, such as your web browser and phone.\n",
        "\n",
        "In this tutorial, we'll learn how to:\n",
        "\n",
        "1.  Install the required dependencies.\n",
        "2.  Author a simple image classifier model.\n",
        "3.  Export the model to ONNX format.\n",
        "4.  Save the ONNX model in a file.\n",
        "5.  Visualize the ONNX model graph using\n",
        "    [Netron](https://github.com/lutzroeder/netron).\n",
        "6.  Execute the ONNX model with [ONNX Runtime]{.title-ref}\n",
        "7.  Compare the PyTorch results with the ones from the ONNX Runtime.\n",
        "\n",
        "1. Install the required dependencies\n",
        "====================================\n",
        "\n",
        "Because the ONNX exporter uses `onnx` and `onnxscript` to translate\n",
        "PyTorch operators into ONNX operators, we will need to install them.\n",
        "\n",
        "> ``` {.sourceCode .bash}\n",
        "> pip install onnx\n",
        "> pip install onnxscript\n",
        "> ```\n",
        "\n",
        "2. Author a simple image classifier model\n",
        "=========================================\n",
        "\n",
        "Once your environment is set up, let's start modeling our image\n",
        "classifier with PyTorch, exactly like we did in the [60 Minute\n",
        "Blitz](https://pytorch.org/tutorials/beginner/deep_learning_60min_blitz.html).\n"
      ]
    },
    {
      "cell_type": "code",
      "source": [
        "! pip install onnx\n",
        "! pip install onnxscript\n",
        "#! pip install vit-pytorch"
      ],
      "metadata": {
        "colab": {
          "base_uri": "https://localhost:8080/"
        },
        "id": "gJIvuDP0uOE_",
        "outputId": "1ca90ea2-b439-487a-96df-93765c011d68"
      },
      "execution_count": 3,
      "outputs": [
        {
          "output_type": "stream",
          "name": "stdout",
          "text": [
            "Collecting onnx\n",
            "  Downloading onnx-1.16.0-cp310-cp310-manylinux_2_17_x86_64.manylinux2014_x86_64.whl (15.9 MB)\n",
            "\u001b[2K     \u001b[90m━━━━━━━━━━━━━━━━━━━━━━━━━━━━━━━━━━━━━━━━\u001b[0m \u001b[32m15.9/15.9 MB\u001b[0m \u001b[31m52.2 MB/s\u001b[0m eta \u001b[36m0:00:00\u001b[0m\n",
            "\u001b[?25hRequirement already satisfied: numpy>=1.20 in /usr/local/lib/python3.10/dist-packages (from onnx) (1.25.2)\n",
            "Requirement already satisfied: protobuf>=3.20.2 in /usr/local/lib/python3.10/dist-packages (from onnx) (3.20.3)\n",
            "Installing collected packages: onnx\n",
            "Successfully installed onnx-1.16.0\n",
            "Collecting onnxscript\n",
            "  Downloading onnxscript-0.1.0.dev20240330-py3-none-any.whl (518 kB)\n",
            "\u001b[2K     \u001b[90m━━━━━━━━━━━━━━━━━━━━━━━━━━━━━━━━━━━━━━━━\u001b[0m \u001b[32m518.4/518.4 kB\u001b[0m \u001b[31m3.6 MB/s\u001b[0m eta \u001b[36m0:00:00\u001b[0m\n",
            "\u001b[?25hRequirement already satisfied: numpy in /usr/local/lib/python3.10/dist-packages (from onnxscript) (1.25.2)\n",
            "Requirement already satisfied: onnx>=1.14 in /usr/local/lib/python3.10/dist-packages (from onnxscript) (1.16.0)\n",
            "Requirement already satisfied: typing-extensions in /usr/local/lib/python3.10/dist-packages (from onnxscript) (4.10.0)\n",
            "Requirement already satisfied: protobuf>=3.20.2 in /usr/local/lib/python3.10/dist-packages (from onnx>=1.14->onnxscript) (3.20.3)\n",
            "Installing collected packages: onnxscript\n",
            "Successfully installed onnxscript-0.1.0.dev20240330\n"
          ]
        }
      ]
    },
    {
      "cell_type": "code",
      "source": [
        "# prompt: I want a list of sizes from 1024 up to 16384 that are powers of 2\n",
        "\n",
        "sizes = [1024, 2048, 4096, 8192, 16384]\n",
        "size = sizes[-2]\n",
        "size"
      ],
      "metadata": {
        "colab": {
          "base_uri": "https://localhost:8080/"
        },
        "id": "BbFu0dm7Zu_m",
        "outputId": "a0c6e772-091b-4567-c99d-3d581cd45481"
      },
      "execution_count": 4,
      "outputs": [
        {
          "output_type": "execute_result",
          "data": {
            "text/plain": [
              "8192"
            ]
          },
          "metadata": {},
          "execution_count": 4
        }
      ]
    },
    {
      "cell_type": "code",
      "source": [
        "import torch\n",
        "import torch.nn as nn\n",
        "import torch.onnx\n",
        "\n",
        "class MatMulModule(nn.Module):\n",
        "    def forward(self, x, y):\n",
        "        return torch.bmm(x, y)\n",
        "\n",
        "size = 8192  # Example size for both dimensions\n",
        "model = MatMulModule()\n",
        "\n",
        "# Example input: two square matrices of size 2048x2048\n",
        "x = torch.randn(1, size, size)\n",
        "y = torch.randn(1, size, size)\n",
        "\n",
        "# Export the model to ONNX\n",
        "torch.onnx.export(model, (x, y), 'matmul_bmm_8192.onnx', opset_version=11)\n"
      ],
      "metadata": {
        "id": "ti6iaiMiSFRn"
      },
      "execution_count": 9,
      "outputs": []
    },
    {
      "cell_type": "markdown",
      "metadata": {
        "id": "1y4uJ7Q9th2G"
      },
      "source": [
        "3. Export the model to ONNX format\n",
        "==================================\n",
        "\n",
        "Now that we have our model defined, we need to instantiate it and create\n",
        "a random 32x32 input. Next, we can export the model to ONNX format.\n"
      ]
    },
    {
      "cell_type": "code",
      "execution_count": null,
      "metadata": {
        "colab": {
          "base_uri": "https://localhost:8080/"
        },
        "id": "6lq-EXnjth2G",
        "outputId": "1205fdd2-431c-4de4-d2e6-86e595bc2b20"
      },
      "outputs": [
        {
          "output_type": "stream",
          "name": "stderr",
          "text": [
            "/usr/local/lib/python3.10/dist-packages/torch/onnx/_internal/exporter.py:137: UserWarning: torch.onnx.dynamo_export only implements opset version 18 for now. If you need to use a different opset version, please register them with register_custom_op.\n",
            "  warnings.warn(\n"
          ]
        }
      ],
      "source": [
        "'''\n",
        "# Initialize the module\n",
        "model = MatMulModule()\n",
        "\n",
        "# Create a dummy input tensor of size (2088, 2048)\n",
        "dummy_input = torch.ones(2088, 2048)\n",
        "\n",
        "# Perform the forward pass (optional, for verification)\n",
        "output = model(dummy_input)\n",
        "\n",
        "# Export the model to an ONNX file\n",
        "torch.onnx.export(model, dummy_input, \"matmul.onnx\", verbose=True, input_names=['input'], output_names=['output'])\n",
        "\n",
        "'''\n",
        "\n",
        "#torch_model = MyModel()\n",
        "torch_model = MatMulModule(size)\n",
        "torch_input = torch.ones((size, size), dtype=torch.float32)\n",
        "\n",
        "onnx_program = torch.onnx.dynamo_export(torch_model, torch_input)"
      ]
    },
    {
      "cell_type": "markdown",
      "metadata": {
        "id": "v2NAuJnGth2H"
      },
      "source": [
        "As we can see, we didn\\'t need any code change to the model. The\n",
        "resulting ONNX model is stored within `torch.onnx.ONNXProgram` as a\n",
        "binary protobuf file.\n",
        "\n",
        "4. Save the ONNX model in a file\n",
        "================================\n",
        "\n",
        "Although having the exported model loaded in memory is useful in many\n",
        "applications, we can save it to disk with the following code:\n"
      ]
    },
    {
      "cell_type": "code",
      "execution_count": null,
      "metadata": {
        "id": "s84_WsLRth2H"
      },
      "outputs": [],
      "source": [
        "#onnx_program.save(\"my_image_classifier.onnx\")\n",
        "#onnx_program.save(\"vit_pytorch.onnx\")\n",
        "onnx_program.save(\"matmul.onnx\")"
      ]
    },
    {
      "cell_type": "markdown",
      "metadata": {
        "id": "_de2iDLdth2H"
      },
      "source": [
        "You can load the ONNX file back into memory and check if it is well\n",
        "formed with the following code:\n"
      ]
    },
    {
      "cell_type": "code",
      "execution_count": null,
      "metadata": {
        "id": "TkCrpuBBth2H"
      },
      "outputs": [],
      "source": [
        "import onnx\n",
        "onnx_model = onnx.load(\"matmul.onnx\")\n",
        "onnx.checker.check_model(onnx_model)"
      ]
    },
    {
      "cell_type": "markdown",
      "metadata": {
        "id": "_o1kZunGth2I"
      },
      "source": [
        "5. Visualize the ONNX model graph using Netron\n",
        "==============================================\n",
        "\n",
        "Now that we have our model saved in a file, we can visualize it with\n",
        "[Netron](https://github.com/lutzroeder/netron). Netron can either be\n",
        "installed on macos, Linux or Windows computers, or run directly from the\n",
        "browser. Let\\'s try the web version by opening the following link:\n",
        "<https://netron.app/>.\n",
        "\n",
        "![image](https://pytorch.org/tutorials/_static/img/onnx/netron_web_ui.png){.align-center\n",
        "width=\"70.0%\"}\n",
        "\n",
        "Once Netron is open, we can drag and drop our `my_image_classifier.onnx`\n",
        "file into the browser or select it after clicking the **Open model**\n",
        "button.\n",
        "\n",
        "![image](https://pytorch.org/tutorials/_static/img/onnx/image_clossifier_onnx_modelon_netron_web_ui.png){width=\"50.0%\"}\n",
        "\n",
        "And that is it! We have successfully exported our PyTorch model to ONNX\n",
        "format and visualized it with Netron.\n",
        "\n",
        "6. Execute the ONNX model with ONNX Runtime\n",
        "===========================================\n",
        "\n",
        "The last step is executing the ONNX model with [ONNX\n",
        "Runtime]{.title-ref}, but before we do that, let\\'s install ONNX\n",
        "Runtime.\n",
        "\n",
        "> ``` {.sourceCode .bash}\n",
        "> pip install onnxruntime\n",
        "> ```\n",
        "\n",
        "The ONNX standard does not support all the data structure and types that\n",
        "PyTorch does, so we need to adapt PyTorch input\\'s to ONNX format before\n",
        "feeding it to ONNX Runtime. In our example, the input happens to be the\n",
        "same, but it might have more inputs than the original PyTorch model in\n",
        "more complex models.\n",
        "\n",
        "ONNX Runtime requires an additional step that involves converting all\n",
        "PyTorch tensors to Numpy (in CPU) and wrap them on a dictionary with\n",
        "keys being a string with the input name as key and the numpy tensor as\n",
        "the value.\n",
        "\n",
        "Now we can create an *ONNX Runtime Inference Session*, execute the ONNX\n",
        "model with the processed input and get the output. In this tutorial,\n",
        "ONNX Runtime is executed on CPU, but it could be executed on GPU as\n",
        "well.\n"
      ]
    },
    {
      "cell_type": "code",
      "source": [
        "! pip install onnxruntime"
      ],
      "metadata": {
        "colab": {
          "base_uri": "https://localhost:8080/"
        },
        "id": "1mZAnmDxx7kt",
        "outputId": "08d97e49-d3db-4fac-bb1c-78f528c8c1b5"
      },
      "execution_count": null,
      "outputs": [
        {
          "output_type": "stream",
          "name": "stdout",
          "text": [
            "Collecting onnxruntime\n",
            "  Downloading onnxruntime-1.17.1-cp310-cp310-manylinux_2_27_x86_64.manylinux_2_28_x86_64.whl (6.8 MB)\n",
            "\u001b[2K     \u001b[90m━━━━━━━━━━━━━━━━━━━━━━━━━━━━━━━━━━━━━━━━\u001b[0m \u001b[32m6.8/6.8 MB\u001b[0m \u001b[31m11.9 MB/s\u001b[0m eta \u001b[36m0:00:00\u001b[0m\n",
            "\u001b[?25hCollecting coloredlogs (from onnxruntime)\n",
            "  Downloading coloredlogs-15.0.1-py2.py3-none-any.whl (46 kB)\n",
            "\u001b[2K     \u001b[90m━━━━━━━━━━━━━━━━━━━━━━━━━━━━━━━━━━━━━━━━\u001b[0m \u001b[32m46.0/46.0 kB\u001b[0m \u001b[31m5.5 MB/s\u001b[0m eta \u001b[36m0:00:00\u001b[0m\n",
            "\u001b[?25hRequirement already satisfied: flatbuffers in /usr/local/lib/python3.10/dist-packages (from onnxruntime) (24.3.7)\n",
            "Requirement already satisfied: numpy>=1.21.6 in /usr/local/lib/python3.10/dist-packages (from onnxruntime) (1.25.2)\n",
            "Requirement already satisfied: packaging in /usr/local/lib/python3.10/dist-packages (from onnxruntime) (24.0)\n",
            "Requirement already satisfied: protobuf in /usr/local/lib/python3.10/dist-packages (from onnxruntime) (3.20.3)\n",
            "Requirement already satisfied: sympy in /usr/local/lib/python3.10/dist-packages (from onnxruntime) (1.12)\n",
            "Collecting humanfriendly>=9.1 (from coloredlogs->onnxruntime)\n",
            "  Downloading humanfriendly-10.0-py2.py3-none-any.whl (86 kB)\n",
            "\u001b[2K     \u001b[90m━━━━━━━━━━━━━━━━━━━━━━━━━━━━━━━━━━━━━━━━\u001b[0m \u001b[32m86.8/86.8 kB\u001b[0m \u001b[31m11.3 MB/s\u001b[0m eta \u001b[36m0:00:00\u001b[0m\n",
            "\u001b[?25hRequirement already satisfied: mpmath>=0.19 in /usr/local/lib/python3.10/dist-packages (from sympy->onnxruntime) (1.3.0)\n",
            "Installing collected packages: humanfriendly, coloredlogs, onnxruntime\n",
            "Successfully installed coloredlogs-15.0.1 humanfriendly-10.0 onnxruntime-1.17.1\n"
          ]
        }
      ]
    },
    {
      "cell_type": "code",
      "execution_count": null,
      "metadata": {
        "id": "skEi31Poth2I"
      },
      "outputs": [],
      "source": [
        "import onnxruntime\n",
        "\n",
        "onnx_input = onnx_program.adapt_torch_inputs_to_onnx(torch_input)\n",
        "print(f\"Input length: {len(onnx_input)}\")\n",
        "print(f\"Sample input: {onnx_input}\")\n",
        "\n",
        "ort_session = onnxruntime.InferenceSession(\"./my_image_classifier.onnx\", providers=['CPUExecutionProvider'])\n",
        "\n",
        "def to_numpy(tensor):\n",
        "    return tensor.detach().cpu().numpy() if tensor.requires_grad else tensor.cpu().numpy()\n",
        "\n",
        "onnxruntime_input = {k.name: to_numpy(v) for k, v in zip(ort_session.get_inputs(), onnx_input)}\n",
        "\n",
        "onnxruntime_outputs = ort_session.run(None, onnxruntime_input)"
      ]
    },
    {
      "cell_type": "markdown",
      "metadata": {
        "id": "Q4j717e1th2I"
      },
      "source": [
        "7. Compare the PyTorch results with the ones from the ONNX Runtime\n",
        "==================================================================\n",
        "\n",
        "The best way to determine whether the exported model is looking good is\n",
        "through numerical evaluation against PyTorch, which is our source of\n",
        "truth.\n",
        "\n",
        "For that, we need to execute the PyTorch model with the same input and\n",
        "compare the results with ONNX Runtime\\'s. Before comparing the results,\n",
        "we need to convert the PyTorch\\'s output to match ONNX\\'s format.\n"
      ]
    },
    {
      "cell_type": "code",
      "execution_count": null,
      "metadata": {
        "id": "ZchKo4x1th2I"
      },
      "outputs": [],
      "source": [
        "torch_outputs = torch_model(torch_input)\n",
        "torch_outputs = onnx_program.adapt_torch_outputs_to_onnx(torch_outputs)\n",
        "\n",
        "assert len(torch_outputs) == len(onnxruntime_outputs)\n",
        "for torch_output, onnxruntime_output in zip(torch_outputs, onnxruntime_outputs):\n",
        "    torch.testing.assert_close(torch_output, torch.tensor(onnxruntime_output))\n",
        "\n",
        "print(\"PyTorch and ONNX Runtime output matched!\")\n",
        "print(f\"Output length: {len(onnxruntime_outputs)}\")\n",
        "print(f\"Sample output: {onnxruntime_outputs}\")"
      ]
    },
    {
      "cell_type": "markdown",
      "metadata": {
        "id": "POTm6sxJth2I"
      },
      "source": [
        "Conclusion\n",
        "==========\n",
        "\n",
        "That is about it! We have successfully exported our PyTorch model to\n",
        "ONNX format, saved the model to disk, viewed it using Netron, executed\n",
        "it with ONNX Runtime and finally compared its numerical results with\n",
        "PyTorch\\'s.\n",
        "\n",
        "Further reading\n",
        "===============\n",
        "\n",
        "The list below refers to tutorials that ranges from basic examples to\n",
        "advanced scenarios, not necessarily in the order they are listed. Feel\n",
        "free to jump directly to specific topics of your interest or sit tight\n",
        "and have fun going through all of them to learn all there is about the\n",
        "ONNX exporter.\n",
        "\n",
        "::: {.toctree hidden=\"\"}\n",
        ":::\n"
      ]
    }
  ],
  "metadata": {
    "kernelspec": {
      "display_name": "Python 3",
      "name": "python3"
    },
    "language_info": {
      "codemirror_mode": {
        "name": "ipython",
        "version": 3
      },
      "file_extension": ".py",
      "mimetype": "text/x-python",
      "name": "python",
      "nbconvert_exporter": "python",
      "pygments_lexer": "ipython3",
      "version": "3.10.14"
    },
    "colab": {
      "provenance": [],
      "gpuType": "T4",
      "include_colab_link": true
    },
    "accelerator": "GPU"
  },
  "nbformat": 4,
  "nbformat_minor": 0
}